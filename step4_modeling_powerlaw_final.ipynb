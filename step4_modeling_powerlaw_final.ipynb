{
 "cells": [
  {
   "cell_type": "code",
   "execution_count": 1,
   "id": "267a266b",
   "metadata": {},
   "outputs": [],
   "source": [
    "%matplotlib inline\n",
    "import numpy as np\n",
    "import pandas as pd\n",
    "import matplotlib.pyplot as plt\n",
    "from scipy.optimize import curve_fit"
   ]
  },
  {
   "cell_type": "code",
   "execution_count": 2,
   "id": "c61ce9a4",
   "metadata": {
    "scrolled": true
   },
   "outputs": [],
   "source": [
    "#Import file\n",
    "path1=r'C:\\Users\\Maria\\Dropbox (Personal)\\DS4A\\Datasets\\Current\\cali_temp_wnv_cases_2.csv'\n",
    "\n",
    "df=pd.read_csv(path1)\n",
    "df.head()\n",
    "df.drop(columns=['Unnamed: 0'], inplace=True)\n",
    "\n",
    "county_df=df.groupby(['county']).sum()\n",
    "#county_df[county_df.index=='ventura']\n",
    "\n",
    "#sum case counts by county\n",
    "county_df=df.groupby(['county']).sum()\n",
    "\n",
    "#Make list of counties with zero cases\n",
    "zero=county_df[county_df['case_count']==0]\n",
    "zero_list=zero.index.to_list()\n"
   ]
  },
  {
   "cell_type": "code",
   "execution_count": 3,
   "id": "d6b0390b",
   "metadata": {
    "scrolled": true
   },
   "outputs": [
    {
     "data": {
      "text/html": [
       "<div>\n",
       "<style scoped>\n",
       "    .dataframe tbody tr th:only-of-type {\n",
       "        vertical-align: middle;\n",
       "    }\n",
       "\n",
       "    .dataframe tbody tr th {\n",
       "        vertical-align: top;\n",
       "    }\n",
       "\n",
       "    .dataframe thead th {\n",
       "        text-align: right;\n",
       "    }\n",
       "</style>\n",
       "<table border=\"1\" class=\"dataframe\">\n",
       "  <thead>\n",
       "    <tr style=\"text-align: right;\">\n",
       "      <th></th>\n",
       "      <th>percip</th>\n",
       "      <th>mean_temp</th>\n",
       "      <th>case_count</th>\n",
       "      <th>mean_temp_shift</th>\n",
       "    </tr>\n",
       "    <tr>\n",
       "      <th>month_date</th>\n",
       "      <th></th>\n",
       "      <th></th>\n",
       "      <th></th>\n",
       "      <th></th>\n",
       "    </tr>\n",
       "  </thead>\n",
       "  <tbody>\n",
       "    <tr>\n",
       "      <th>2006-03-01</th>\n",
       "      <td>1354.942857</td>\n",
       "      <td>7.464359</td>\n",
       "      <td>0.0</td>\n",
       "      <td>8.094534</td>\n",
       "    </tr>\n",
       "    <tr>\n",
       "      <th>2006-04-01</th>\n",
       "      <td>1341.258571</td>\n",
       "      <td>11.175102</td>\n",
       "      <td>0.0</td>\n",
       "      <td>9.310641</td>\n",
       "    </tr>\n",
       "    <tr>\n",
       "      <th>2006-05-01</th>\n",
       "      <td>149.468571</td>\n",
       "      <td>18.257434</td>\n",
       "      <td>0.0</td>\n",
       "      <td>7.464359</td>\n",
       "    </tr>\n",
       "    <tr>\n",
       "      <th>2006-06-01</th>\n",
       "      <td>12.394286</td>\n",
       "      <td>20.365233</td>\n",
       "      <td>1.0</td>\n",
       "      <td>11.175102</td>\n",
       "    </tr>\n",
       "    <tr>\n",
       "      <th>2006-07-01</th>\n",
       "      <td>7.182857</td>\n",
       "      <td>26.075102</td>\n",
       "      <td>15.0</td>\n",
       "      <td>18.257434</td>\n",
       "    </tr>\n",
       "  </tbody>\n",
       "</table>\n",
       "</div>"
      ],
      "text/plain": [
       "                 percip  mean_temp  case_count  mean_temp_shift\n",
       "month_date                                                     \n",
       "2006-03-01  1354.942857   7.464359         0.0         8.094534\n",
       "2006-04-01  1341.258571  11.175102         0.0         9.310641\n",
       "2006-05-01   149.468571  18.257434         0.0         7.464359\n",
       "2006-06-01    12.394286  20.365233         1.0        11.175102\n",
       "2006-07-01     7.182857  26.075102        15.0        18.257434"
      ]
     },
     "execution_count": 3,
     "metadata": {},
     "output_type": "execute_result"
    }
   ],
   "source": [
    "#remove counties with zero case counts\n",
    "df2 = df[~df['county'].isin(zero_list)]\n",
    "df2['county'].value_counts()\n",
    "df2.head()\n",
    "df=df2.copy()\n",
    "\n",
    "#Set mmwr_endate as index and datetime\n",
    "df.set_index('mmwr_enddate', inplace=True)\n",
    "df.index = pd.to_datetime(df.index)\n",
    "\n",
    "#Add month and year columns\n",
    "df['month']=df.index.month\n",
    "df['year']=df.index.year\n",
    "\n",
    "df.reset_index(inplace=True)\n",
    "df.drop(columns=['mmwr_enddate'], inplace=True)\n",
    "df.head()\n",
    "\n",
    "#Agr=gregate by year and month\n",
    "new=df.groupby(['year','month']).aggregate({'ppt (mm)':'sum','tmean (degrees C)': 'mean','case_count':'sum' })\n",
    "new.reset_index(inplace=True)\n",
    "new.head()\n",
    "\n",
    "#Make day column to create a datetime column using month, day, and year.\n",
    "new['day']=\"1\"\n",
    "new[\"month_date\"] = pd.to_datetime(new[['month', 'day', 'year']])\n",
    "\n",
    "df=new.drop(columns=['year', 'month', 'day'])\n",
    "df.set_index('month_date', inplace=True)\n",
    "df.rename(columns={'tmean (degrees C)':'mean_temp', 'ppt (mm)':'percip'}, inplace=True)\n",
    "df.tail()\n",
    "\n",
    "#Shift dataset by two periods since there was a two month lag in the two peaks of temp and case_count\n",
    "df['mean_temp_shift']=df['mean_temp'].shift(periods=2)\n",
    "\n",
    "#to get rid of NAN\n",
    "df=df.drop(['2006-01-01','2006-02-01'])\n",
    "\n",
    "df.head()"
   ]
  },
  {
   "cell_type": "markdown",
   "id": "2c55a602",
   "metadata": {},
   "source": [
    "# Power Law"
   ]
  },
  {
   "cell_type": "code",
   "execution_count": 4,
   "id": "a9310929",
   "metadata": {},
   "outputs": [
    {
     "data": {
      "text/plain": [
       "[<matplotlib.lines.Line2D at 0x272954cad90>]"
      ]
     },
     "execution_count": 4,
     "metadata": {},
     "output_type": "execute_result"
    },
    {
     "data": {
      "image/png": "[encoded data removed]",
      "text/plain": [
       "<Figure size 432x288 with 1 Axes>"
      ]
     },
     "metadata": {
      "needs_background": "light"
     },
     "output_type": "display_data"
    }
   ],
   "source": [
    "#define independent and dependent variables\n",
    "x=df.mean_temp_shift\n",
    "y=df.case_count\t\n",
    "\n",
    "#define power law expression\n",
    "def power_law(x, a, b):\n",
    "    return a*np.power(x, b)\n",
    "\n",
    "#fit curve \n",
    "popt, pcov = curve_fit(power_law, x, y)\n",
    "plt.plot(x,y,'ok')"
   ]
  },
  {
   "cell_type": "code",
   "execution_count": 5,
   "id": "f064e7df",
   "metadata": {
    "scrolled": false
   },
   "outputs": [
    {
     "data": {
      "text/plain": [
       "[<matplotlib.lines.Line2D at 0x2729607a3a0>]"
      ]
     },
     "execution_count": 5,
     "metadata": {},
     "output_type": "execute_result"
    },
    {
     "data": {
      "image/png": "[encoded data removed]",
      "text/plain": [
       "<Figure size 432x288 with 1 Axes>"
      ]
     },
     "metadata": {
      "needs_background": "light"
     },
     "output_type": "display_data"
    }
   ],
   "source": [
    "#Plot power law trendline vs scatter plot of cases by temperature\n",
    "x=df.mean_temp_shift\n",
    "popt, pcov = curve_fit(power_law, x, y)\n",
    "plt.plot(x,y,'ok')\n",
    "\n",
    "x = np.linspace(5, 25, len(x))\n",
    "plt.plot(x, power_law(x, *popt),'r-',markersize=3,  linewidth=2.5)"
   ]
  },
  {
   "cell_type": "code",
   "execution_count": 6,
   "id": "6b822846",
   "metadata": {},
   "outputs": [
    {
     "data": {
      "text/plain": [
       "0.5510121436934113"
      ]
     },
     "execution_count": 6,
     "metadata": {},
     "output_type": "execute_result"
    }
   ],
   "source": [
    "#calculate r^2\n",
    "\n",
    "x=df.mean_temp_shift\n",
    "\n",
    "residuals = y - power_law(x, *popt)\n",
    "ss_res = np.sum(residuals**2)\n",
    "ss_tot = np.sum((y-np.mean(y))**2)\n",
    "r_squared = 1 - (ss_res / ss_tot)\n",
    "\n",
    "r_squared"
   ]
  },
  {
   "cell_type": "code",
   "execution_count": 10,
   "id": "a4606cca",
   "metadata": {
    "scrolled": true
   },
   "outputs": [
    {
     "data": {
      "text/plain": [
       "array([5.88801913e-05, 4.49829336e+00])"
      ]
     },
     "execution_count": 10,
     "metadata": {},
     "output_type": "execute_result"
    }
   ],
   "source": [
    "popt"
   ]
  },
  {
   "cell_type": "code",
   "execution_count": 18,
   "id": "7ccba793",
   "metadata": {},
   "outputs": [],
   "source": [
    "#store constants to be used in model\n",
    "a=popt[0]\n",
    "b=popt[1]"
   ]
  },
  {
   "cell_type": "code",
   "execution_count": 8,
   "id": "ab307b39",
   "metadata": {
    "scrolled": false
   },
   "outputs": [
    {
     "data": {
      "text/plain": [
       "array([[ 1.11133379e-08, -5.98735804e-05],\n",
       "       [-5.98735804e-05,  3.22839906e-01]])"
      ]
     },
     "execution_count": 8,
     "metadata": {},
     "output_type": "execute_result"
    }
   ],
   "source": [
    "pcov"
   ]
  },
  {
   "cell_type": "code",
   "execution_count": 19,
   "id": "89936f4f",
   "metadata": {},
   "outputs": [
    {
     "data": {
      "text/plain": [
       "'20 cases'"
      ]
     },
     "execution_count": 19,
     "metadata": {},
     "output_type": "execute_result"
    }
   ],
   "source": [
    "#Use constants to define model\n",
    "def powmodel(x):\n",
    "    return str(round(a*(x**b))) + ' cases'\n",
    "\n",
    "#predict\n",
    "powmodel(17)"
   ]
  },
  {
   "cell_type": "code",
   "execution_count": null,
   "id": "739e0672",
   "metadata": {},
   "outputs": [],
   "source": [
    "#Next step: Model Validation"
   ]
  }
 ],
 "metadata": {
  "kernelspec": {
   "display_name": "Python 3 (ipykernel)",
   "language": "python",
   "name": "python3"
  },
  "language_info": {
   "codemirror_mode": {
    "name": "ipython",
    "version": 3
   },
   "file_extension": ".py",
   "mimetype": "text/x-python",
   "name": "python",
   "nbconvert_exporter": "python",
   "pygments_lexer": "ipython3",
   "version": "3.9.7"
  }
 },
 "nbformat": 4,
 "nbformat_minor": 5
}
