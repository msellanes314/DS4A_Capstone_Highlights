{
 "cells": [
  {
   "cell_type": "code",
   "execution_count": 17,
   "id": "267a266b",
   "metadata": {},
   "outputs": [],
   "source": [
    "import os\n",
    "import pandas as pd\n",
    "import datetime\n",
    "from epiweeks import Week, Year\n",
    "import re\n",
    "import seaborn as sns\n",
    "import matplotlib.pyplot as plt\n",
    "import numpy as np\n",
    "from pycaret.utils import version\n",
    "#import scikit-plot\n",
    "from datetime import datetime"
   ]
  },
  {
   "cell_type": "code",
   "execution_count": 3,
   "id": "12bb83cc",
   "metadata": {},
   "outputs": [],
   "source": [
    "import pandas as pd\n",
    "import numpy as np\n",
    "%matplotlib inline\n",
    "\n",
    "# Import Statsmodels\n",
    "from statsmodels.tsa.api import VAR\n",
    "from statsmodels.tsa.stattools import adfuller\n",
    "from statsmodels.tools.eval_measures import rmse, aic\n",
    "\n",
    "# Load Statsmodels for Stationarity\n",
    "#import statsmodels.api as sm"
   ]
  },
  {
   "cell_type": "code",
   "execution_count": 2,
   "id": "d147f8de",
   "metadata": {},
   "outputs": [
    {
     "data": {
      "text/plain": [
       "'2.2.3'"
      ]
     },
     "execution_count": 2,
     "metadata": {},
     "output_type": "execute_result"
    }
   ],
   "source": [
    "version()\n",
    "#Resource:https://medium.com/@janmejoy.mi650/getting-started-with-pycaret-1-0-0-part-1-4844fe4108ad"
   ]
  },
  {
   "cell_type": "code",
   "execution_count": 4,
   "id": "ea9bcdd7",
   "metadata": {},
   "outputs": [],
   "source": [
    "#wnv= pd.DataFrame(columns = ['year', 'mmwr_week', 'county', 'case_count'])\n",
    "path1=r'C:\\Users\\Maria\\Dropbox (Personal)\\DS4A\\Datasets\\Current\\cali_temp_wnv_cases_2.csv'\n",
    "\n",
    "df=pd.read_csv(path1)\n",
    "df.head()\n",
    "df.drop(columns=['Unnamed: 0', 'county'], inplace=True)"
   ]
  },
  {
   "cell_type": "code",
   "execution_count": 5,
   "id": "2f13f7a2",
   "metadata": {
    "scrolled": false
   },
   "outputs": [
    {
     "data": {
      "text/plain": [
       "mmwr_enddate          object\n",
       "ppt (mm)             float64\n",
       "tmean (degrees C)    float64\n",
       "case_count           float64\n",
       "dtype: object"
      ]
     },
     "execution_count": 5,
     "metadata": {},
     "output_type": "execute_result"
    }
   ],
   "source": [
    "df.shape\n",
    "df.dtypes"
   ]
  },
  {
   "cell_type": "code",
   "execution_count": 6,
   "id": "0fe6e2ed",
   "metadata": {},
   "outputs": [
    {
     "data": {
      "text/html": [
       "<div>\n",
       "<style scoped>\n",
       "    .dataframe tbody tr th:only-of-type {\n",
       "        vertical-align: middle;\n",
       "    }\n",
       "\n",
       "    .dataframe tbody tr th {\n",
       "        vertical-align: top;\n",
       "    }\n",
       "\n",
       "    .dataframe thead th {\n",
       "        text-align: right;\n",
       "    }\n",
       "</style>\n",
       "<table border=\"1\" class=\"dataframe\">\n",
       "  <thead>\n",
       "    <tr style=\"text-align: right;\">\n",
       "      <th></th>\n",
       "      <th>ppt (mm)</th>\n",
       "      <th>tmean (degrees C)</th>\n",
       "      <th>case_count</th>\n",
       "    </tr>\n",
       "    <tr>\n",
       "      <th>mmwr_enddate</th>\n",
       "      <th></th>\n",
       "      <th></th>\n",
       "      <th></th>\n",
       "    </tr>\n",
       "  </thead>\n",
       "  <tbody>\n",
       "    <tr>\n",
       "      <th>2006-01-07</th>\n",
       "      <td>9.561429</td>\n",
       "      <td>10.342857</td>\n",
       "      <td>0.0</td>\n",
       "    </tr>\n",
       "    <tr>\n",
       "      <th>2006-01-14</th>\n",
       "      <td>1.148571</td>\n",
       "      <td>9.557143</td>\n",
       "      <td>0.0</td>\n",
       "    </tr>\n",
       "    <tr>\n",
       "      <th>2006-01-21</th>\n",
       "      <td>3.211429</td>\n",
       "      <td>8.000000</td>\n",
       "      <td>0.0</td>\n",
       "    </tr>\n",
       "    <tr>\n",
       "      <th>2006-01-28</th>\n",
       "      <td>0.437143</td>\n",
       "      <td>8.657143</td>\n",
       "      <td>0.0</td>\n",
       "    </tr>\n",
       "    <tr>\n",
       "      <th>2006-02-04</th>\n",
       "      <td>2.841429</td>\n",
       "      <td>11.185714</td>\n",
       "      <td>0.0</td>\n",
       "    </tr>\n",
       "  </tbody>\n",
       "</table>\n",
       "</div>"
      ],
      "text/plain": [
       "              ppt (mm)  tmean (degrees C)  case_count\n",
       "mmwr_enddate                                         \n",
       "2006-01-07    9.561429          10.342857         0.0\n",
       "2006-01-14    1.148571           9.557143         0.0\n",
       "2006-01-21    3.211429           8.000000         0.0\n",
       "2006-01-28    0.437143           8.657143         0.0\n",
       "2006-02-04    2.841429          11.185714         0.0"
      ]
     },
     "execution_count": 6,
     "metadata": {},
     "output_type": "execute_result"
    }
   ],
   "source": [
    "#df['mmwr_week']=pd.to_datetime(df['mmwr_enddate'])\n",
    "#data=df.drop(columns=['mmwr_enddate'])\n",
    "#data.index=data.Date_Time\n",
    "df.set_index('mmwr_enddate', inplace=True)\n",
    "df.index = pd.to_datetime(df.index)\n",
    "\n",
    "df.head()"
   ]
  },
  {
   "cell_type": "code",
   "execution_count": 106,
   "id": "398cdd89",
   "metadata": {
    "scrolled": true
   },
   "outputs": [
    {
     "data": {
      "text/plain": [
       "DatetimeIndex(['2006-01-07', '2006-01-14', '2006-01-21', '2006-01-28',\n",
       "               '2006-02-04', '2006-02-11', '2006-02-18', '2006-02-25',\n",
       "               '2006-03-04', '2006-03-11',\n",
       "               ...\n",
       "               '2021-07-31', '2021-08-07', '2021-08-14', '2021-08-21',\n",
       "               '2021-08-28', '2021-09-04', '2021-09-11', '2021-09-18',\n",
       "               '2021-09-25', '2021-10-02'],\n",
       "              dtype='datetime64[ns]', name='mmwr_enddate', length=47676, freq=None)"
      ]
     },
     "execution_count": 106,
     "metadata": {},
     "output_type": "execute_result"
    }
   ],
   "source": [
    "#data.dtypes\n",
    "df.head()\n",
    "df.index"
   ]
  },
  {
   "cell_type": "code",
   "execution_count": 18,
   "id": "a9a1e664",
   "metadata": {
    "scrolled": true
   },
   "outputs": [
    {
     "data": {
      "text/html": [
       "<div>\n",
       "<style scoped>\n",
       "    .dataframe tbody tr th:only-of-type {\n",
       "        vertical-align: middle;\n",
       "    }\n",
       "\n",
       "    .dataframe tbody tr th {\n",
       "        vertical-align: top;\n",
       "    }\n",
       "\n",
       "    .dataframe thead th {\n",
       "        text-align: right;\n",
       "    }\n",
       "</style>\n",
       "<table border=\"1\" class=\"dataframe\">\n",
       "  <thead>\n",
       "    <tr style=\"text-align: right;\">\n",
       "      <th></th>\n",
       "      <th>ppt (mm)</th>\n",
       "      <th>tmean (degrees C)</th>\n",
       "      <th>case_count</th>\n",
       "      <th>month</th>\n",
       "      <th>year</th>\n",
       "    </tr>\n",
       "    <tr>\n",
       "      <th>mmwr_enddate</th>\n",
       "      <th></th>\n",
       "      <th></th>\n",
       "      <th></th>\n",
       "      <th></th>\n",
       "      <th></th>\n",
       "    </tr>\n",
       "  </thead>\n",
       "  <tbody>\n",
       "    <tr>\n",
       "      <th>2006-01-07</th>\n",
       "      <td>9.561429</td>\n",
       "      <td>10.342857</td>\n",
       "      <td>0.0</td>\n",
       "      <td>1</td>\n",
       "      <td>2006</td>\n",
       "    </tr>\n",
       "    <tr>\n",
       "      <th>2006-01-14</th>\n",
       "      <td>1.148571</td>\n",
       "      <td>9.557143</td>\n",
       "      <td>0.0</td>\n",
       "      <td>1</td>\n",
       "      <td>2006</td>\n",
       "    </tr>\n",
       "    <tr>\n",
       "      <th>2006-01-21</th>\n",
       "      <td>3.211429</td>\n",
       "      <td>8.000000</td>\n",
       "      <td>0.0</td>\n",
       "      <td>1</td>\n",
       "      <td>2006</td>\n",
       "    </tr>\n",
       "    <tr>\n",
       "      <th>2006-01-28</th>\n",
       "      <td>0.437143</td>\n",
       "      <td>8.657143</td>\n",
       "      <td>0.0</td>\n",
       "      <td>1</td>\n",
       "      <td>2006</td>\n",
       "    </tr>\n",
       "    <tr>\n",
       "      <th>2006-02-04</th>\n",
       "      <td>2.841429</td>\n",
       "      <td>11.185714</td>\n",
       "      <td>0.0</td>\n",
       "      <td>2</td>\n",
       "      <td>2006</td>\n",
       "    </tr>\n",
       "    <tr>\n",
       "      <th>2006-02-11</th>\n",
       "      <td>0.094286</td>\n",
       "      <td>11.171429</td>\n",
       "      <td>0.0</td>\n",
       "      <td>2</td>\n",
       "      <td>2006</td>\n",
       "    </tr>\n",
       "    <tr>\n",
       "      <th>2006-02-18</th>\n",
       "      <td>0.532857</td>\n",
       "      <td>9.714286</td>\n",
       "      <td>0.0</td>\n",
       "      <td>2</td>\n",
       "      <td>2006</td>\n",
       "    </tr>\n",
       "    <tr>\n",
       "      <th>2006-02-25</th>\n",
       "      <td>0.222857</td>\n",
       "      <td>7.442857</td>\n",
       "      <td>0.0</td>\n",
       "      <td>2</td>\n",
       "      <td>2006</td>\n",
       "    </tr>\n",
       "    <tr>\n",
       "      <th>2006-03-04</th>\n",
       "      <td>6.954286</td>\n",
       "      <td>9.871429</td>\n",
       "      <td>0.0</td>\n",
       "      <td>3</td>\n",
       "      <td>2006</td>\n",
       "    </tr>\n",
       "    <tr>\n",
       "      <th>2006-03-11</th>\n",
       "      <td>5.747143</td>\n",
       "      <td>8.428571</td>\n",
       "      <td>0.0</td>\n",
       "      <td>3</td>\n",
       "      <td>2006</td>\n",
       "    </tr>\n",
       "  </tbody>\n",
       "</table>\n",
       "</div>"
      ],
      "text/plain": [
       "              ppt (mm)  tmean (degrees C)  case_count  month  year\n",
       "mmwr_enddate                                                      \n",
       "2006-01-07    9.561429          10.342857         0.0      1  2006\n",
       "2006-01-14    1.148571           9.557143         0.0      1  2006\n",
       "2006-01-21    3.211429           8.000000         0.0      1  2006\n",
       "2006-01-28    0.437143           8.657143         0.0      1  2006\n",
       "2006-02-04    2.841429          11.185714         0.0      2  2006\n",
       "2006-02-11    0.094286          11.171429         0.0      2  2006\n",
       "2006-02-18    0.532857           9.714286         0.0      2  2006\n",
       "2006-02-25    0.222857           7.442857         0.0      2  2006\n",
       "2006-03-04    6.954286           9.871429         0.0      3  2006\n",
       "2006-03-11    5.747143           8.428571         0.0      3  2006"
      ]
     },
     "execution_count": 18,
     "metadata": {},
     "output_type": "execute_result"
    }
   ],
   "source": [
    "df['month']=df.index.month\n",
    "df.head(10)"
   ]
  },
  {
   "cell_type": "code",
   "execution_count": 8,
   "id": "d7c2d1c3",
   "metadata": {},
   "outputs": [],
   "source": [
    "df['year']=df.index.year"
   ]
  },
  {
   "cell_type": "code",
   "execution_count": 10,
   "id": "f425118e",
   "metadata": {
    "scrolled": true
   },
   "outputs": [
    {
     "data": {
      "text/html": [
       "<div>\n",
       "<style scoped>\n",
       "    .dataframe tbody tr th:only-of-type {\n",
       "        vertical-align: middle;\n",
       "    }\n",
       "\n",
       "    .dataframe tbody tr th {\n",
       "        vertical-align: top;\n",
       "    }\n",
       "\n",
       "    .dataframe thead th {\n",
       "        text-align: right;\n",
       "    }\n",
       "</style>\n",
       "<table border=\"1\" class=\"dataframe\">\n",
       "  <thead>\n",
       "    <tr style=\"text-align: right;\">\n",
       "      <th></th>\n",
       "      <th>ppt (mm)</th>\n",
       "      <th>tmean (degrees C)</th>\n",
       "      <th>case_count</th>\n",
       "      <th>month</th>\n",
       "      <th>year</th>\n",
       "    </tr>\n",
       "  </thead>\n",
       "  <tbody>\n",
       "    <tr>\n",
       "      <th>0</th>\n",
       "      <td>9.561429</td>\n",
       "      <td>10.342857</td>\n",
       "      <td>0.0</td>\n",
       "      <td>1</td>\n",
       "      <td>2006</td>\n",
       "    </tr>\n",
       "    <tr>\n",
       "      <th>1</th>\n",
       "      <td>1.148571</td>\n",
       "      <td>9.557143</td>\n",
       "      <td>0.0</td>\n",
       "      <td>1</td>\n",
       "      <td>2006</td>\n",
       "    </tr>\n",
       "    <tr>\n",
       "      <th>2</th>\n",
       "      <td>3.211429</td>\n",
       "      <td>8.000000</td>\n",
       "      <td>0.0</td>\n",
       "      <td>1</td>\n",
       "      <td>2006</td>\n",
       "    </tr>\n",
       "    <tr>\n",
       "      <th>3</th>\n",
       "      <td>0.437143</td>\n",
       "      <td>8.657143</td>\n",
       "      <td>0.0</td>\n",
       "      <td>1</td>\n",
       "      <td>2006</td>\n",
       "    </tr>\n",
       "    <tr>\n",
       "      <th>4</th>\n",
       "      <td>2.841429</td>\n",
       "      <td>11.185714</td>\n",
       "      <td>0.0</td>\n",
       "      <td>2</td>\n",
       "      <td>2006</td>\n",
       "    </tr>\n",
       "    <tr>\n",
       "      <th>...</th>\n",
       "      <td>...</td>\n",
       "      <td>...</td>\n",
       "      <td>...</td>\n",
       "      <td>...</td>\n",
       "      <td>...</td>\n",
       "    </tr>\n",
       "    <tr>\n",
       "      <th>47671</th>\n",
       "      <td>0.000000</td>\n",
       "      <td>24.242857</td>\n",
       "      <td>0.0</td>\n",
       "      <td>9</td>\n",
       "      <td>2021</td>\n",
       "    </tr>\n",
       "    <tr>\n",
       "      <th>47672</th>\n",
       "      <td>0.127143</td>\n",
       "      <td>27.285714</td>\n",
       "      <td>0.0</td>\n",
       "      <td>9</td>\n",
       "      <td>2021</td>\n",
       "    </tr>\n",
       "    <tr>\n",
       "      <th>47673</th>\n",
       "      <td>0.000000</td>\n",
       "      <td>24.042857</td>\n",
       "      <td>0.0</td>\n",
       "      <td>9</td>\n",
       "      <td>2021</td>\n",
       "    </tr>\n",
       "    <tr>\n",
       "      <th>47674</th>\n",
       "      <td>0.371429</td>\n",
       "      <td>23.185714</td>\n",
       "      <td>0.0</td>\n",
       "      <td>9</td>\n",
       "      <td>2021</td>\n",
       "    </tr>\n",
       "    <tr>\n",
       "      <th>47675</th>\n",
       "      <td>0.545000</td>\n",
       "      <td>19.450000</td>\n",
       "      <td>0.0</td>\n",
       "      <td>10</td>\n",
       "      <td>2021</td>\n",
       "    </tr>\n",
       "  </tbody>\n",
       "</table>\n",
       "<p>47676 rows × 5 columns</p>\n",
       "</div>"
      ],
      "text/plain": [
       "       ppt (mm)  tmean (degrees C)  case_count  month  year\n",
       "0      9.561429          10.342857         0.0      1  2006\n",
       "1      1.148571           9.557143         0.0      1  2006\n",
       "2      3.211429           8.000000         0.0      1  2006\n",
       "3      0.437143           8.657143         0.0      1  2006\n",
       "4      2.841429          11.185714         0.0      2  2006\n",
       "...         ...                ...         ...    ...   ...\n",
       "47671  0.000000          24.242857         0.0      9  2021\n",
       "47672  0.127143          27.285714         0.0      9  2021\n",
       "47673  0.000000          24.042857         0.0      9  2021\n",
       "47674  0.371429          23.185714         0.0      9  2021\n",
       "47675  0.545000          19.450000         0.0     10  2021\n",
       "\n",
       "[47676 rows x 5 columns]"
      ]
     },
     "execution_count": 10,
     "metadata": {},
     "output_type": "execute_result"
    }
   ],
   "source": [
    "mdf=df.reset_index()\n",
    "mdf.drop(columns=['mmwr_enddate'], inplace=True)\n",
    "mdf"
   ]
  },
  {
   "cell_type": "code",
   "execution_count": 12,
   "id": "193715ae",
   "metadata": {
    "scrolled": true
   },
   "outputs": [],
   "source": [
    "new=mdf.groupby(['year','month']).aggregate({'ppt (mm)':'mean', 'tmean (degrees C)': 'mean','case_count':'sum' })"
   ]
  },
  {
   "cell_type": "code",
   "execution_count": 19,
   "id": "67e27451",
   "metadata": {
    "scrolled": true
   },
   "outputs": [
    {
     "data": {
      "text/html": [
       "<div>\n",
       "<style scoped>\n",
       "    .dataframe tbody tr th:only-of-type {\n",
       "        vertical-align: middle;\n",
       "    }\n",
       "\n",
       "    .dataframe tbody tr th {\n",
       "        vertical-align: top;\n",
       "    }\n",
       "\n",
       "    .dataframe thead th {\n",
       "        text-align: right;\n",
       "    }\n",
       "</style>\n",
       "<table border=\"1\" class=\"dataframe\">\n",
       "  <thead>\n",
       "    <tr style=\"text-align: right;\">\n",
       "      <th></th>\n",
       "      <th>year</th>\n",
       "      <th>month</th>\n",
       "      <th>ppt (mm)</th>\n",
       "      <th>tmean (degrees C)</th>\n",
       "      <th>case_count</th>\n",
       "      <th>day</th>\n",
       "    </tr>\n",
       "  </thead>\n",
       "  <tbody>\n",
       "    <tr>\n",
       "      <th>0</th>\n",
       "      <td>2006</td>\n",
       "      <td>1</td>\n",
       "      <td>5.252297</td>\n",
       "      <td>7.282204</td>\n",
       "      <td>0.0</td>\n",
       "      <td>1</td>\n",
       "    </tr>\n",
       "    <tr>\n",
       "      <th>1</th>\n",
       "      <td>2006</td>\n",
       "      <td>2</td>\n",
       "      <td>1.665653</td>\n",
       "      <td>8.541318</td>\n",
       "      <td>0.0</td>\n",
       "      <td>1</td>\n",
       "    </tr>\n",
       "    <tr>\n",
       "      <th>2</th>\n",
       "      <td>2006</td>\n",
       "      <td>3</td>\n",
       "      <td>7.542611</td>\n",
       "      <td>6.448892</td>\n",
       "      <td>0.0</td>\n",
       "      <td>1</td>\n",
       "    </tr>\n",
       "    <tr>\n",
       "      <th>3</th>\n",
       "      <td>2006</td>\n",
       "      <td>4</td>\n",
       "      <td>5.905946</td>\n",
       "      <td>10.255616</td>\n",
       "      <td>0.0</td>\n",
       "      <td>1</td>\n",
       "    </tr>\n",
       "    <tr>\n",
       "      <th>4</th>\n",
       "      <td>2006</td>\n",
       "      <td>5</td>\n",
       "      <td>0.844871</td>\n",
       "      <td>17.492365</td>\n",
       "      <td>0.0</td>\n",
       "      <td>1</td>\n",
       "    </tr>\n",
       "  </tbody>\n",
       "</table>\n",
       "</div>"
      ],
      "text/plain": [
       "   year  month  ppt (mm)  tmean (degrees C)  case_count day\n",
       "0  2006      1  5.252297           7.282204         0.0   1\n",
       "1  2006      2  1.665653           8.541318         0.0   1\n",
       "2  2006      3  7.542611           6.448892         0.0   1\n",
       "3  2006      4  5.905946          10.255616         0.0   1\n",
       "4  2006      5  0.844871          17.492365         0.0   1"
      ]
     },
     "execution_count": 19,
     "metadata": {},
     "output_type": "execute_result"
    }
   ],
   "source": [
    "new['day']=\"1\"\n",
    "new.head()"
   ]
  },
  {
   "cell_type": "code",
   "execution_count": 15,
   "id": "b0a90267",
   "metadata": {
    "scrolled": true
   },
   "outputs": [
    {
     "data": {
      "text/html": [
       "<div>\n",
       "<style scoped>\n",
       "    .dataframe tbody tr th:only-of-type {\n",
       "        vertical-align: middle;\n",
       "    }\n",
       "\n",
       "    .dataframe tbody tr th {\n",
       "        vertical-align: top;\n",
       "    }\n",
       "\n",
       "    .dataframe thead th {\n",
       "        text-align: right;\n",
       "    }\n",
       "</style>\n",
       "<table border=\"1\" class=\"dataframe\">\n",
       "  <thead>\n",
       "    <tr style=\"text-align: right;\">\n",
       "      <th></th>\n",
       "      <th>year</th>\n",
       "      <th>month</th>\n",
       "      <th>ppt (mm)</th>\n",
       "      <th>tmean (degrees C)</th>\n",
       "      <th>case_count</th>\n",
       "    </tr>\n",
       "  </thead>\n",
       "  <tbody>\n",
       "    <tr>\n",
       "      <th>0</th>\n",
       "      <td>2006</td>\n",
       "      <td>1</td>\n",
       "      <td>5.252297</td>\n",
       "      <td>7.282204</td>\n",
       "      <td>0.0</td>\n",
       "    </tr>\n",
       "    <tr>\n",
       "      <th>1</th>\n",
       "      <td>2006</td>\n",
       "      <td>2</td>\n",
       "      <td>1.665653</td>\n",
       "      <td>8.541318</td>\n",
       "      <td>0.0</td>\n",
       "    </tr>\n",
       "    <tr>\n",
       "      <th>2</th>\n",
       "      <td>2006</td>\n",
       "      <td>3</td>\n",
       "      <td>7.542611</td>\n",
       "      <td>6.448892</td>\n",
       "      <td>0.0</td>\n",
       "    </tr>\n",
       "    <tr>\n",
       "      <th>3</th>\n",
       "      <td>2006</td>\n",
       "      <td>4</td>\n",
       "      <td>5.905946</td>\n",
       "      <td>10.255616</td>\n",
       "      <td>0.0</td>\n",
       "    </tr>\n",
       "    <tr>\n",
       "      <th>4</th>\n",
       "      <td>2006</td>\n",
       "      <td>5</td>\n",
       "      <td>0.844871</td>\n",
       "      <td>17.492365</td>\n",
       "      <td>0.0</td>\n",
       "    </tr>\n",
       "    <tr>\n",
       "      <th>...</th>\n",
       "      <td>...</td>\n",
       "      <td>...</td>\n",
       "      <td>...</td>\n",
       "      <td>...</td>\n",
       "      <td>...</td>\n",
       "    </tr>\n",
       "    <tr>\n",
       "      <th>185</th>\n",
       "      <td>2021</td>\n",
       "      <td>6</td>\n",
       "      <td>0.126342</td>\n",
       "      <td>21.492919</td>\n",
       "      <td>0.0</td>\n",
       "    </tr>\n",
       "    <tr>\n",
       "      <th>186</th>\n",
       "      <td>2021</td>\n",
       "      <td>7</td>\n",
       "      <td>0.067453</td>\n",
       "      <td>25.247882</td>\n",
       "      <td>4.0</td>\n",
       "    </tr>\n",
       "    <tr>\n",
       "      <th>187</th>\n",
       "      <td>2021</td>\n",
       "      <td>8</td>\n",
       "      <td>0.011927</td>\n",
       "      <td>23.782389</td>\n",
       "      <td>22.0</td>\n",
       "    </tr>\n",
       "    <tr>\n",
       "      <th>188</th>\n",
       "      <td>2021</td>\n",
       "      <td>9</td>\n",
       "      <td>0.263387</td>\n",
       "      <td>22.899076</td>\n",
       "      <td>31.0</td>\n",
       "    </tr>\n",
       "    <tr>\n",
       "      <th>189</th>\n",
       "      <td>2021</td>\n",
       "      <td>10</td>\n",
       "      <td>0.548132</td>\n",
       "      <td>17.821839</td>\n",
       "      <td>0.0</td>\n",
       "    </tr>\n",
       "  </tbody>\n",
       "</table>\n",
       "<p>190 rows × 5 columns</p>\n",
       "</div>"
      ],
      "text/plain": [
       "     year  month  ppt (mm)  tmean (degrees C)  case_count\n",
       "0    2006      1  5.252297           7.282204         0.0\n",
       "1    2006      2  1.665653           8.541318         0.0\n",
       "2    2006      3  7.542611           6.448892         0.0\n",
       "3    2006      4  5.905946          10.255616         0.0\n",
       "4    2006      5  0.844871          17.492365         0.0\n",
       "..    ...    ...       ...                ...         ...\n",
       "185  2021      6  0.126342          21.492919         0.0\n",
       "186  2021      7  0.067453          25.247882         4.0\n",
       "187  2021      8  0.011927          23.782389        22.0\n",
       "188  2021      9  0.263387          22.899076        31.0\n",
       "189  2021     10  0.548132          17.821839         0.0\n",
       "\n",
       "[190 rows x 5 columns]"
      ]
     },
     "execution_count": 15,
     "metadata": {},
     "output_type": "execute_result"
    }
   ],
   "source": [
    "new.reset_index(inplace=True)\n",
    "new"
   ]
  },
  {
   "cell_type": "code",
   "execution_count": 21,
   "id": "123f00fc",
   "metadata": {
    "scrolled": true
   },
   "outputs": [
    {
     "data": {
      "text/html": [
       "<div>\n",
       "<style scoped>\n",
       "    .dataframe tbody tr th:only-of-type {\n",
       "        vertical-align: middle;\n",
       "    }\n",
       "\n",
       "    .dataframe tbody tr th {\n",
       "        vertical-align: top;\n",
       "    }\n",
       "\n",
       "    .dataframe thead th {\n",
       "        text-align: right;\n",
       "    }\n",
       "</style>\n",
       "<table border=\"1\" class=\"dataframe\">\n",
       "  <thead>\n",
       "    <tr style=\"text-align: right;\">\n",
       "      <th></th>\n",
       "      <th>year</th>\n",
       "      <th>month</th>\n",
       "      <th>ppt (mm)</th>\n",
       "      <th>tmean (degrees C)</th>\n",
       "      <th>case_count</th>\n",
       "      <th>day</th>\n",
       "      <th>month_date</th>\n",
       "    </tr>\n",
       "  </thead>\n",
       "  <tbody>\n",
       "    <tr>\n",
       "      <th>170</th>\n",
       "      <td>2020</td>\n",
       "      <td>3</td>\n",
       "      <td>3.214261</td>\n",
       "      <td>8.818966</td>\n",
       "      <td>0.0</td>\n",
       "      <td>1</td>\n",
       "      <td>2020-03-01</td>\n",
       "    </tr>\n",
       "    <tr>\n",
       "      <th>171</th>\n",
       "      <td>2020</td>\n",
       "      <td>4</td>\n",
       "      <td>2.357931</td>\n",
       "      <td>11.711700</td>\n",
       "      <td>0.0</td>\n",
       "      <td>1</td>\n",
       "      <td>2020-04-01</td>\n",
       "    </tr>\n",
       "    <tr>\n",
       "      <th>172</th>\n",
       "      <td>2020</td>\n",
       "      <td>5</td>\n",
       "      <td>1.139768</td>\n",
       "      <td>17.508966</td>\n",
       "      <td>0.0</td>\n",
       "      <td>1</td>\n",
       "      <td>2020-05-01</td>\n",
       "    </tr>\n",
       "    <tr>\n",
       "      <th>173</th>\n",
       "      <td>2020</td>\n",
       "      <td>6</td>\n",
       "      <td>0.258688</td>\n",
       "      <td>20.194643</td>\n",
       "      <td>1.0</td>\n",
       "      <td>1</td>\n",
       "      <td>2020-06-01</td>\n",
       "    </tr>\n",
       "    <tr>\n",
       "      <th>174</th>\n",
       "      <td>2020</td>\n",
       "      <td>7</td>\n",
       "      <td>0.022789</td>\n",
       "      <td>22.617303</td>\n",
       "      <td>3.0</td>\n",
       "      <td>1</td>\n",
       "      <td>2020-07-01</td>\n",
       "    </tr>\n",
       "    <tr>\n",
       "      <th>175</th>\n",
       "      <td>2020</td>\n",
       "      <td>8</td>\n",
       "      <td>0.050704</td>\n",
       "      <td>25.003547</td>\n",
       "      <td>30.0</td>\n",
       "      <td>1</td>\n",
       "      <td>2020-08-01</td>\n",
       "    </tr>\n",
       "    <tr>\n",
       "      <th>176</th>\n",
       "      <td>2020</td>\n",
       "      <td>9</td>\n",
       "      <td>0.049390</td>\n",
       "      <td>22.860099</td>\n",
       "      <td>56.0</td>\n",
       "      <td>1</td>\n",
       "      <td>2020-09-01</td>\n",
       "    </tr>\n",
       "    <tr>\n",
       "      <th>177</th>\n",
       "      <td>2020</td>\n",
       "      <td>10</td>\n",
       "      <td>0.057044</td>\n",
       "      <td>19.976010</td>\n",
       "      <td>64.0</td>\n",
       "      <td>1</td>\n",
       "      <td>2020-10-01</td>\n",
       "    </tr>\n",
       "    <tr>\n",
       "      <th>178</th>\n",
       "      <td>2020</td>\n",
       "      <td>11</td>\n",
       "      <td>1.455757</td>\n",
       "      <td>10.774631</td>\n",
       "      <td>20.0</td>\n",
       "      <td>1</td>\n",
       "      <td>2020-11-01</td>\n",
       "    </tr>\n",
       "    <tr>\n",
       "      <th>179</th>\n",
       "      <td>2020</td>\n",
       "      <td>12</td>\n",
       "      <td>1.791718</td>\n",
       "      <td>8.604433</td>\n",
       "      <td>22.0</td>\n",
       "      <td>1</td>\n",
       "      <td>2020-12-01</td>\n",
       "    </tr>\n",
       "    <tr>\n",
       "      <th>180</th>\n",
       "      <td>2021</td>\n",
       "      <td>1</td>\n",
       "      <td>3.808453</td>\n",
       "      <td>7.620837</td>\n",
       "      <td>39.0</td>\n",
       "      <td>1</td>\n",
       "      <td>2021-01-01</td>\n",
       "    </tr>\n",
       "    <tr>\n",
       "      <th>181</th>\n",
       "      <td>2021</td>\n",
       "      <td>2</td>\n",
       "      <td>1.796890</td>\n",
       "      <td>8.700739</td>\n",
       "      <td>0.0</td>\n",
       "      <td>1</td>\n",
       "      <td>2021-02-01</td>\n",
       "    </tr>\n",
       "    <tr>\n",
       "      <th>182</th>\n",
       "      <td>2021</td>\n",
       "      <td>3</td>\n",
       "      <td>2.086287</td>\n",
       "      <td>7.976170</td>\n",
       "      <td>0.0</td>\n",
       "      <td>1</td>\n",
       "      <td>2021-03-01</td>\n",
       "    </tr>\n",
       "    <tr>\n",
       "      <th>183</th>\n",
       "      <td>2021</td>\n",
       "      <td>4</td>\n",
       "      <td>0.048264</td>\n",
       "      <td>13.891010</td>\n",
       "      <td>0.0</td>\n",
       "      <td>1</td>\n",
       "      <td>2021-04-01</td>\n",
       "    </tr>\n",
       "    <tr>\n",
       "      <th>184</th>\n",
       "      <td>2021</td>\n",
       "      <td>5</td>\n",
       "      <td>0.248557</td>\n",
       "      <td>16.166158</td>\n",
       "      <td>0.0</td>\n",
       "      <td>1</td>\n",
       "      <td>2021-05-01</td>\n",
       "    </tr>\n",
       "    <tr>\n",
       "      <th>185</th>\n",
       "      <td>2021</td>\n",
       "      <td>6</td>\n",
       "      <td>0.126342</td>\n",
       "      <td>21.492919</td>\n",
       "      <td>0.0</td>\n",
       "      <td>1</td>\n",
       "      <td>2021-06-01</td>\n",
       "    </tr>\n",
       "    <tr>\n",
       "      <th>186</th>\n",
       "      <td>2021</td>\n",
       "      <td>7</td>\n",
       "      <td>0.067453</td>\n",
       "      <td>25.247882</td>\n",
       "      <td>4.0</td>\n",
       "      <td>1</td>\n",
       "      <td>2021-07-01</td>\n",
       "    </tr>\n",
       "    <tr>\n",
       "      <th>187</th>\n",
       "      <td>2021</td>\n",
       "      <td>8</td>\n",
       "      <td>0.011927</td>\n",
       "      <td>23.782389</td>\n",
       "      <td>22.0</td>\n",
       "      <td>1</td>\n",
       "      <td>2021-08-01</td>\n",
       "    </tr>\n",
       "    <tr>\n",
       "      <th>188</th>\n",
       "      <td>2021</td>\n",
       "      <td>9</td>\n",
       "      <td>0.263387</td>\n",
       "      <td>22.899076</td>\n",
       "      <td>31.0</td>\n",
       "      <td>1</td>\n",
       "      <td>2021-09-01</td>\n",
       "    </tr>\n",
       "    <tr>\n",
       "      <th>189</th>\n",
       "      <td>2021</td>\n",
       "      <td>10</td>\n",
       "      <td>0.548132</td>\n",
       "      <td>17.821839</td>\n",
       "      <td>0.0</td>\n",
       "      <td>1</td>\n",
       "      <td>2021-10-01</td>\n",
       "    </tr>\n",
       "  </tbody>\n",
       "</table>\n",
       "</div>"
      ],
      "text/plain": [
       "     year  month  ppt (mm)  tmean (degrees C)  case_count day month_date\n",
       "170  2020      3  3.214261           8.818966         0.0   1 2020-03-01\n",
       "171  2020      4  2.357931          11.711700         0.0   1 2020-04-01\n",
       "172  2020      5  1.139768          17.508966         0.0   1 2020-05-01\n",
       "173  2020      6  0.258688          20.194643         1.0   1 2020-06-01\n",
       "174  2020      7  0.022789          22.617303         3.0   1 2020-07-01\n",
       "175  2020      8  0.050704          25.003547        30.0   1 2020-08-01\n",
       "176  2020      9  0.049390          22.860099        56.0   1 2020-09-01\n",
       "177  2020     10  0.057044          19.976010        64.0   1 2020-10-01\n",
       "178  2020     11  1.455757          10.774631        20.0   1 2020-11-01\n",
       "179  2020     12  1.791718           8.604433        22.0   1 2020-12-01\n",
       "180  2021      1  3.808453           7.620837        39.0   1 2021-01-01\n",
       "181  2021      2  1.796890           8.700739         0.0   1 2021-02-01\n",
       "182  2021      3  2.086287           7.976170         0.0   1 2021-03-01\n",
       "183  2021      4  0.048264          13.891010         0.0   1 2021-04-01\n",
       "184  2021      5  0.248557          16.166158         0.0   1 2021-05-01\n",
       "185  2021      6  0.126342          21.492919         0.0   1 2021-06-01\n",
       "186  2021      7  0.067453          25.247882         4.0   1 2021-07-01\n",
       "187  2021      8  0.011927          23.782389        22.0   1 2021-08-01\n",
       "188  2021      9  0.263387          22.899076        31.0   1 2021-09-01\n",
       "189  2021     10  0.548132          17.821839         0.0   1 2021-10-01"
      ]
     },
     "execution_count": 21,
     "metadata": {},
     "output_type": "execute_result"
    }
   ],
   "source": [
    "new[\"month_date\"] = pd.to_datetime(new[['month', 'day', 'year']])\n",
    "new.tail(20)"
   ]
  },
  {
   "cell_type": "code",
   "execution_count": 25,
   "id": "991d0229",
   "metadata": {},
   "outputs": [
    {
     "data": {
      "text/html": [
       "<div>\n",
       "<style scoped>\n",
       "    .dataframe tbody tr th:only-of-type {\n",
       "        vertical-align: middle;\n",
       "    }\n",
       "\n",
       "    .dataframe tbody tr th {\n",
       "        vertical-align: top;\n",
       "    }\n",
       "\n",
       "    .dataframe thead th {\n",
       "        text-align: right;\n",
       "    }\n",
       "</style>\n",
       "<table border=\"1\" class=\"dataframe\">\n",
       "  <thead>\n",
       "    <tr style=\"text-align: right;\">\n",
       "      <th></th>\n",
       "      <th>ppt (mm)</th>\n",
       "      <th>tmean (degrees C)</th>\n",
       "      <th>case_count</th>\n",
       "      <th>month_date</th>\n",
       "    </tr>\n",
       "  </thead>\n",
       "  <tbody>\n",
       "    <tr>\n",
       "      <th>0</th>\n",
       "      <td>5.252297</td>\n",
       "      <td>7.282204</td>\n",
       "      <td>0.0</td>\n",
       "      <td>2006-01-01</td>\n",
       "    </tr>\n",
       "    <tr>\n",
       "      <th>1</th>\n",
       "      <td>1.665653</td>\n",
       "      <td>8.541318</td>\n",
       "      <td>0.0</td>\n",
       "      <td>2006-02-01</td>\n",
       "    </tr>\n",
       "    <tr>\n",
       "      <th>2</th>\n",
       "      <td>7.542611</td>\n",
       "      <td>6.448892</td>\n",
       "      <td>0.0</td>\n",
       "      <td>2006-03-01</td>\n",
       "    </tr>\n",
       "    <tr>\n",
       "      <th>3</th>\n",
       "      <td>5.905946</td>\n",
       "      <td>10.255616</td>\n",
       "      <td>0.0</td>\n",
       "      <td>2006-04-01</td>\n",
       "    </tr>\n",
       "    <tr>\n",
       "      <th>4</th>\n",
       "      <td>0.844871</td>\n",
       "      <td>17.492365</td>\n",
       "      <td>0.0</td>\n",
       "      <td>2006-05-01</td>\n",
       "    </tr>\n",
       "  </tbody>\n",
       "</table>\n",
       "</div>"
      ],
      "text/plain": [
       "   ppt (mm)  tmean (degrees C)  case_count month_date\n",
       "0  5.252297           7.282204         0.0 2006-01-01\n",
       "1  1.665653           8.541318         0.0 2006-02-01\n",
       "2  7.542611           6.448892         0.0 2006-03-01\n",
       "3  5.905946          10.255616         0.0 2006-04-01\n",
       "4  0.844871          17.492365         0.0 2006-05-01"
      ]
     },
     "execution_count": 25,
     "metadata": {},
     "output_type": "execute_result"
    }
   ],
   "source": [
    "df=new.drop(columns=['year', 'month', 'day'])\n",
    "df.head()"
   ]
  },
  {
   "cell_type": "code",
   "execution_count": 36,
   "id": "5a0a38b3",
   "metadata": {},
   "outputs": [],
   "source": [
    "df.set_index('month_date', inplace=True)"
   ]
  },
  {
   "cell_type": "code",
   "execution_count": 37,
   "id": "9997f2fb",
   "metadata": {},
   "outputs": [
    {
     "data": {
      "text/html": [
       "<div>\n",
       "<style scoped>\n",
       "    .dataframe tbody tr th:only-of-type {\n",
       "        vertical-align: middle;\n",
       "    }\n",
       "\n",
       "    .dataframe tbody tr th {\n",
       "        vertical-align: top;\n",
       "    }\n",
       "\n",
       "    .dataframe thead th {\n",
       "        text-align: right;\n",
       "    }\n",
       "</style>\n",
       "<table border=\"1\" class=\"dataframe\">\n",
       "  <thead>\n",
       "    <tr style=\"text-align: right;\">\n",
       "      <th></th>\n",
       "      <th>ppt (mm)</th>\n",
       "      <th>tmean (degrees C)</th>\n",
       "      <th>case_count</th>\n",
       "    </tr>\n",
       "    <tr>\n",
       "      <th>month_date</th>\n",
       "      <th></th>\n",
       "      <th></th>\n",
       "      <th></th>\n",
       "    </tr>\n",
       "  </thead>\n",
       "  <tbody>\n",
       "    <tr>\n",
       "      <th>2006-01-01</th>\n",
       "      <td>5.252297</td>\n",
       "      <td>7.282204</td>\n",
       "      <td>0.0</td>\n",
       "    </tr>\n",
       "    <tr>\n",
       "      <th>2006-02-01</th>\n",
       "      <td>1.665653</td>\n",
       "      <td>8.541318</td>\n",
       "      <td>0.0</td>\n",
       "    </tr>\n",
       "    <tr>\n",
       "      <th>2006-03-01</th>\n",
       "      <td>7.542611</td>\n",
       "      <td>6.448892</td>\n",
       "      <td>0.0</td>\n",
       "    </tr>\n",
       "    <tr>\n",
       "      <th>2006-04-01</th>\n",
       "      <td>5.905946</td>\n",
       "      <td>10.255616</td>\n",
       "      <td>0.0</td>\n",
       "    </tr>\n",
       "    <tr>\n",
       "      <th>2006-05-01</th>\n",
       "      <td>0.844871</td>\n",
       "      <td>17.492365</td>\n",
       "      <td>0.0</td>\n",
       "    </tr>\n",
       "    <tr>\n",
       "      <th>...</th>\n",
       "      <td>...</td>\n",
       "      <td>...</td>\n",
       "      <td>...</td>\n",
       "    </tr>\n",
       "    <tr>\n",
       "      <th>2021-06-01</th>\n",
       "      <td>0.126342</td>\n",
       "      <td>21.492919</td>\n",
       "      <td>0.0</td>\n",
       "    </tr>\n",
       "    <tr>\n",
       "      <th>2021-07-01</th>\n",
       "      <td>0.067453</td>\n",
       "      <td>25.247882</td>\n",
       "      <td>4.0</td>\n",
       "    </tr>\n",
       "    <tr>\n",
       "      <th>2021-08-01</th>\n",
       "      <td>0.011927</td>\n",
       "      <td>23.782389</td>\n",
       "      <td>22.0</td>\n",
       "    </tr>\n",
       "    <tr>\n",
       "      <th>2021-09-01</th>\n",
       "      <td>0.263387</td>\n",
       "      <td>22.899076</td>\n",
       "      <td>31.0</td>\n",
       "    </tr>\n",
       "    <tr>\n",
       "      <th>2021-10-01</th>\n",
       "      <td>0.548132</td>\n",
       "      <td>17.821839</td>\n",
       "      <td>0.0</td>\n",
       "    </tr>\n",
       "  </tbody>\n",
       "</table>\n",
       "<p>190 rows × 3 columns</p>\n",
       "</div>"
      ],
      "text/plain": [
       "            ppt (mm)  tmean (degrees C)  case_count\n",
       "month_date                                         \n",
       "2006-01-01  5.252297           7.282204         0.0\n",
       "2006-02-01  1.665653           8.541318         0.0\n",
       "2006-03-01  7.542611           6.448892         0.0\n",
       "2006-04-01  5.905946          10.255616         0.0\n",
       "2006-05-01  0.844871          17.492365         0.0\n",
       "...              ...                ...         ...\n",
       "2021-06-01  0.126342          21.492919         0.0\n",
       "2021-07-01  0.067453          25.247882         4.0\n",
       "2021-08-01  0.011927          23.782389        22.0\n",
       "2021-09-01  0.263387          22.899076        31.0\n",
       "2021-10-01  0.548132          17.821839         0.0\n",
       "\n",
       "[190 rows x 3 columns]"
      ]
     },
     "execution_count": 37,
     "metadata": {},
     "output_type": "execute_result"
    }
   ],
   "source": [
    "df"
   ]
  },
  {
   "cell_type": "code",
   "execution_count": 24,
   "id": "c9478134",
   "metadata": {
    "scrolled": false
   },
   "outputs": [],
   "source": [
    "#Making into monhtly data\n",
    "#mdf=df.to_period('M')\n",
    "\n",
    "#takes mean of case_counts"
   ]
  },
  {
   "cell_type": "markdown",
   "id": "eb04a773",
   "metadata": {},
   "source": [
    "# Creating Model"
   ]
  },
  {
   "cell_type": "markdown",
   "id": "ec80f3bc",
   "metadata": {},
   "source": [
    "Source: https://www.machinelearningplus.com/time-series/vector-autoregression-examples-python/"
   ]
  },
  {
   "cell_type": "markdown",
   "id": "702feb1b",
   "metadata": {},
   "source": [
    "# 5. Visualize the Time Series"
   ]
  },
  {
   "cell_type": "code",
   "execution_count": 82,
   "id": "596520fc",
   "metadata": {},
   "outputs": [
    {
     "ename": "IndexError",
     "evalue": "index 3 is out of bounds for axis 0 with size 3",
     "output_type": "error",
     "traceback": [
      "\u001b[1;31m---------------------------------------------------------------------------\u001b[0m",
      "\u001b[1;31mIndexError\u001b[0m                                Traceback (most recent call last)",
      "\u001b[1;32m~\\AppData\\Local\\Temp/ipykernel_16264/2558354252.py\u001b[0m in \u001b[0;36m<module>\u001b[1;34m\u001b[0m\n\u001b[0;32m      1\u001b[0m \u001b[0mfig\u001b[0m\u001b[1;33m,\u001b[0m \u001b[0maxes\u001b[0m \u001b[1;33m=\u001b[0m \u001b[0mplt\u001b[0m\u001b[1;33m.\u001b[0m\u001b[0msubplots\u001b[0m\u001b[1;33m(\u001b[0m\u001b[0mnrows\u001b[0m\u001b[1;33m=\u001b[0m\u001b[1;36m2\u001b[0m\u001b[1;33m,\u001b[0m \u001b[0mncols\u001b[0m\u001b[1;33m=\u001b[0m\u001b[1;36m2\u001b[0m\u001b[1;33m,\u001b[0m \u001b[0mdpi\u001b[0m\u001b[1;33m=\u001b[0m\u001b[1;36m120\u001b[0m\u001b[1;33m,\u001b[0m \u001b[0mfigsize\u001b[0m\u001b[1;33m=\u001b[0m\u001b[1;33m(\u001b[0m\u001b[1;36m10\u001b[0m\u001b[1;33m,\u001b[0m\u001b[1;36m6\u001b[0m\u001b[1;33m)\u001b[0m\u001b[1;33m)\u001b[0m\u001b[1;33m\u001b[0m\u001b[1;33m\u001b[0m\u001b[0m\n\u001b[0;32m      2\u001b[0m \u001b[1;32mfor\u001b[0m \u001b[0mi\u001b[0m\u001b[1;33m,\u001b[0m \u001b[0max\u001b[0m \u001b[1;32min\u001b[0m \u001b[0menumerate\u001b[0m\u001b[1;33m(\u001b[0m\u001b[0maxes\u001b[0m\u001b[1;33m.\u001b[0m\u001b[0mflatten\u001b[0m\u001b[1;33m(\u001b[0m\u001b[1;33m)\u001b[0m\u001b[1;33m)\u001b[0m\u001b[1;33m:\u001b[0m\u001b[1;33m\u001b[0m\u001b[1;33m\u001b[0m\u001b[0m\n\u001b[1;32m----> 3\u001b[1;33m     \u001b[0mdata\u001b[0m \u001b[1;33m=\u001b[0m \u001b[0mdf\u001b[0m\u001b[1;33m[\u001b[0m\u001b[0mdf\u001b[0m\u001b[1;33m.\u001b[0m\u001b[0mcolumns\u001b[0m\u001b[1;33m[\u001b[0m\u001b[0mi\u001b[0m\u001b[1;33m]\u001b[0m\u001b[1;33m]\u001b[0m\u001b[1;33m\u001b[0m\u001b[1;33m\u001b[0m\u001b[0m\n\u001b[0m\u001b[0;32m      4\u001b[0m     \u001b[0max\u001b[0m\u001b[1;33m.\u001b[0m\u001b[0mplot\u001b[0m\u001b[1;33m(\u001b[0m\u001b[0mdata\u001b[0m\u001b[1;33m,\u001b[0m \u001b[0mcolor\u001b[0m\u001b[1;33m=\u001b[0m\u001b[1;34m'red'\u001b[0m\u001b[1;33m,\u001b[0m \u001b[0mlinewidth\u001b[0m\u001b[1;33m=\u001b[0m\u001b[1;36m1\u001b[0m\u001b[1;33m)\u001b[0m\u001b[1;33m\u001b[0m\u001b[1;33m\u001b[0m\u001b[0m\n\u001b[0;32m      5\u001b[0m     \u001b[1;31m# Decorations\u001b[0m\u001b[1;33m\u001b[0m\u001b[1;33m\u001b[0m\u001b[0m\n",
      "\u001b[1;32m~\\anaconda3\\lib\\site-packages\\pandas\\core\\indexes\\base.py\u001b[0m in \u001b[0;36m__getitem__\u001b[1;34m(self, key)\u001b[0m\n\u001b[0;32m   4602\u001b[0m         \u001b[1;32mif\u001b[0m \u001b[0mis_scalar\u001b[0m\u001b[1;33m(\u001b[0m\u001b[0mkey\u001b[0m\u001b[1;33m)\u001b[0m\u001b[1;33m:\u001b[0m\u001b[1;33m\u001b[0m\u001b[1;33m\u001b[0m\u001b[0m\n\u001b[0;32m   4603\u001b[0m             \u001b[0mkey\u001b[0m \u001b[1;33m=\u001b[0m \u001b[0mcom\u001b[0m\u001b[1;33m.\u001b[0m\u001b[0mcast_scalar_indexer\u001b[0m\u001b[1;33m(\u001b[0m\u001b[0mkey\u001b[0m\u001b[1;33m,\u001b[0m \u001b[0mwarn_float\u001b[0m\u001b[1;33m=\u001b[0m\u001b[1;32mTrue\u001b[0m\u001b[1;33m)\u001b[0m\u001b[1;33m\u001b[0m\u001b[1;33m\u001b[0m\u001b[0m\n\u001b[1;32m-> 4604\u001b[1;33m             \u001b[1;32mreturn\u001b[0m \u001b[0mgetitem\u001b[0m\u001b[1;33m(\u001b[0m\u001b[0mkey\u001b[0m\u001b[1;33m)\u001b[0m\u001b[1;33m\u001b[0m\u001b[1;33m\u001b[0m\u001b[0m\n\u001b[0m\u001b[0;32m   4605\u001b[0m \u001b[1;33m\u001b[0m\u001b[0m\n\u001b[0;32m   4606\u001b[0m         \u001b[1;32mif\u001b[0m \u001b[0misinstance\u001b[0m\u001b[1;33m(\u001b[0m\u001b[0mkey\u001b[0m\u001b[1;33m,\u001b[0m \u001b[0mslice\u001b[0m\u001b[1;33m)\u001b[0m\u001b[1;33m:\u001b[0m\u001b[1;33m\u001b[0m\u001b[1;33m\u001b[0m\u001b[0m\n",
      "\u001b[1;31mIndexError\u001b[0m: index 3 is out of bounds for axis 0 with size 3"
     ]
    },
    {
     "data": {
      "image/png": "[encoded data removed]",
      "text/plain": [
       "<Figure size 1200x720 with 4 Axes>"
      ]
     },
     "metadata": {
      "needs_background": "light"
     },
     "output_type": "display_data"
    }
   ],
   "source": [
    "fig, axes = plt.subplots(nrows=2, ncols=2, dpi=120, figsize=(10,6))\n",
    "for i, ax in enumerate(axes.flatten()):\n",
    "    data = df[df.columns[i]]\n",
    "    ax.plot(data, color='red', linewidth=1)\n",
    "    # Decorations\n",
    "    ax.set_title(df.columns[i])\n",
    "    ax.xaxis.set_ticks_position('none')\n",
    "    ax.yaxis.set_ticks_position('none')\n",
    "    ax.spines[\"top\"].set_alpha(0)\n",
    "    ax.tick_params(labelsize=6)\n",
    "\n",
    "plt.tight_layout();"
   ]
  },
  {
   "cell_type": "markdown",
   "id": "4dfc3cf7",
   "metadata": {},
   "source": [
    "# 6. Testing Causation using Granger’s Causality Test"
   ]
  },
  {
   "cell_type": "code",
   "execution_count": 44,
   "id": "e0c75a5e",
   "metadata": {},
   "outputs": [
    {
     "data": {
      "text/html": [
       "<div>\n",
       "<style scoped>\n",
       "    .dataframe tbody tr th:only-of-type {\n",
       "        vertical-align: middle;\n",
       "    }\n",
       "\n",
       "    .dataframe tbody tr th {\n",
       "        vertical-align: top;\n",
       "    }\n",
       "\n",
       "    .dataframe thead th {\n",
       "        text-align: right;\n",
       "    }\n",
       "</style>\n",
       "<table border=\"1\" class=\"dataframe\">\n",
       "  <thead>\n",
       "    <tr style=\"text-align: right;\">\n",
       "      <th></th>\n",
       "      <th>ppt (mm)_x</th>\n",
       "      <th>tmean (degrees C)_x</th>\n",
       "      <th>case_count_x</th>\n",
       "    </tr>\n",
       "  </thead>\n",
       "  <tbody>\n",
       "    <tr>\n",
       "      <th>ppt (mm)_y</th>\n",
       "      <td>1.0000</td>\n",
       "      <td>0.0</td>\n",
       "      <td>0.0</td>\n",
       "    </tr>\n",
       "    <tr>\n",
       "      <th>tmean (degrees C)_y</th>\n",
       "      <td>0.2748</td>\n",
       "      <td>1.0</td>\n",
       "      <td>0.0</td>\n",
       "    </tr>\n",
       "    <tr>\n",
       "      <th>case_count_y</th>\n",
       "      <td>0.0000</td>\n",
       "      <td>0.0</td>\n",
       "      <td>1.0</td>\n",
       "    </tr>\n",
       "  </tbody>\n",
       "</table>\n",
       "</div>"
      ],
      "text/plain": [
       "                     ppt (mm)_x  tmean (degrees C)_x  case_count_x\n",
       "ppt (mm)_y               1.0000                  0.0           0.0\n",
       "tmean (degrees C)_y      0.2748                  1.0           0.0\n",
       "case_count_y             0.0000                  0.0           1.0"
      ]
     },
     "execution_count": 44,
     "metadata": {},
     "output_type": "execute_result"
    }
   ],
   "source": [
    "from statsmodels.tsa.stattools import grangercausalitytests\n",
    "maxlag=12\n",
    "test = 'ssr_chi2test'\n",
    "def grangers_causation_matrix(data, variables, test='ssr_chi2test', verbose=False):    \n",
    "    \"\"\"Check Granger Causality of all possible combinations of the Time series.\n",
    "    The rows are the response variable, columns are predictors. The values in the table \n",
    "    are the P-Values. P-Values lesser than the significance level (0.05), implies \n",
    "    the Null Hypothesis that the coefficients of the corresponding past values is \n",
    "    zero, that is, the X does not cause Y can be rejected.\n",
    "\n",
    "    data      : pandas dataframe containing the time series variables\n",
    "    variables : list containing names of the time series variables.\n",
    "    \"\"\"\n",
    "    df = pd.DataFrame(np.zeros((len(variables), len(variables))), columns=variables, index=variables)\n",
    "    for c in df.columns:\n",
    "        for r in df.index:\n",
    "            test_result = grangercausalitytests(data[[r, c]], maxlag=maxlag, verbose=False)\n",
    "            p_values = [round(test_result[i+1][0][test][1],4) for i in range(maxlag)]\n",
    "            if verbose: print(f'Y = {r}, X = {c}, P Values = {p_values}')\n",
    "            min_p_value = np.min(p_values)\n",
    "            df.loc[r, c] = min_p_value\n",
    "    df.columns = [var + '_x' for var in variables]\n",
    "    df.index = [var + '_y' for var in variables]\n",
    "    return df\n",
    "\n",
    "grangers_causation_matrix(df, variables = df.columns) "
   ]
  },
  {
   "cell_type": "markdown",
   "id": "32632227",
   "metadata": {},
   "source": [
    "If a given p-value is < significance level (0.05), then, the corresponding X series (column) causes the Y (row).\n",
    "\n",
    "- All good except ppt"
   ]
  },
  {
   "cell_type": "markdown",
   "id": "46d5a2d7",
   "metadata": {},
   "source": [
    "# 7. Cointegration Test"
   ]
  },
  {
   "cell_type": "markdown",
   "id": "4cfde7db",
   "metadata": {},
   "source": [
    "Cointegration test helps to establish the presence of a statistically significant connection between two or more time series. "
   ]
  },
  {
   "cell_type": "code",
   "execution_count": 45,
   "id": "4ab8f056",
   "metadata": {
    "scrolled": true
   },
   "outputs": [
    {
     "name": "stdout",
     "output_type": "stream",
     "text": [
      "Name   ::  Test Stat > C(95%)    =>   Signif  \n",
      " ----------------------------------------\n",
      "ppt (mm) ::  81.69     > 24.2761   =>   True\n",
      "tmean (degrees C) ::  24.9      > 12.3212   =>   True\n",
      "case_count ::  0.35      > 4.1296    =>   False\n"
     ]
    }
   ],
   "source": [
    "from statsmodels.tsa.vector_ar.vecm import coint_johansen\n",
    "\n",
    "def cointegration_test(df, alpha=0.05): \n",
    "    \"\"\"Perform Johanson's Cointegration Test and Report Summary\"\"\"\n",
    "    out = coint_johansen(df,-1,5)\n",
    "    d = {'0.90':0, '0.95':1, '0.99':2}\n",
    "    traces = out.lr1\n",
    "    cvts = out.cvt[:, d[str(1-alpha)]]\n",
    "    def adjust(val, length= 6): return str(val).ljust(length)\n",
    "\n",
    "    # Summary\n",
    "    print('Name   ::  Test Stat > C(95%)    =>   Signif  \\n', '--'*20)\n",
    "    for col, trace, cvt in zip(df.columns, traces, cvts):\n",
    "        print(adjust(col), ':: ', adjust(round(trace,2), 9), \">\", adjust(cvt, 8), ' =>  ' , trace > cvt)\n",
    "\n",
    "cointegration_test(df)"
   ]
  },
  {
   "cell_type": "markdown",
   "id": "c20e9a1e",
   "metadata": {},
   "source": [
    "# 8. Split the Series into Training and Testing Data"
   ]
  },
  {
   "cell_type": "code",
   "execution_count": 51,
   "id": "86250abb",
   "metadata": {},
   "outputs": [
    {
     "name": "stdout",
     "output_type": "stream",
     "text": [
      "(186, 3)\n",
      "(4, 3)\n"
     ]
    }
   ],
   "source": [
    "nobs = 4\n",
    "df_train, df_test = df[0:-nobs], df[-nobs:]\n",
    "\n",
    "# Check size\n",
    "print(df_train.shape)  # (119, 8)\n",
    "print(df_test.shape)  # (4, 8)"
   ]
  },
  {
   "cell_type": "markdown",
   "id": "f81bad11",
   "metadata": {},
   "source": [
    "# 9. Checking for Stationarity and Make Series Stationary"
   ]
  },
  {
   "cell_type": "code",
   "execution_count": 52,
   "id": "700b80da",
   "metadata": {
    "scrolled": true
   },
   "outputs": [
    {
     "name": "stdout",
     "output_type": "stream",
     "text": [
      "    Augmented Dickey-Fuller Test on \"ppt (mm)\" \n",
      "    -----------------------------------------------\n",
      " Null Hypothesis: Data has unit root. Non-Stationary.\n",
      " Significance Level    = 0.05\n",
      " Test Statistic        = -2.598\n",
      " No. Lags Chosen       = 12\n",
      " Critical value 1%     = -3.469\n",
      " Critical value 5%     = -2.878\n",
      " Critical value 10%    = -2.576\n",
      " => P-Value = 0.0934. Weak evidence to reject the Null Hypothesis.\n",
      " => Series is Non-Stationary.\n",
      "\n",
      "\n",
      "    Augmented Dickey-Fuller Test on \"tmean (degrees C)\" \n",
      "    -----------------------------------------------\n",
      " Null Hypothesis: Data has unit root. Non-Stationary.\n",
      " Significance Level    = 0.05\n",
      " Test Statistic        = -1.5807\n",
      " No. Lags Chosen       = 14\n",
      " Critical value 1%     = -3.469\n",
      " Critical value 5%     = -2.879\n",
      " Critical value 10%    = -2.576\n",
      " => P-Value = 0.4933. Weak evidence to reject the Null Hypothesis.\n",
      " => Series is Non-Stationary.\n",
      "\n",
      "\n",
      "    Augmented Dickey-Fuller Test on \"case_count\" \n",
      "    -----------------------------------------------\n",
      " Null Hypothesis: Data has unit root. Non-Stationary.\n",
      " Significance Level    = 0.05\n",
      " Test Statistic        = -1.9924\n",
      " No. Lags Chosen       = 12\n",
      " Critical value 1%     = -3.469\n",
      " Critical value 5%     = -2.878\n",
      " Critical value 10%    = -2.576\n",
      " => P-Value = 0.2899. Weak evidence to reject the Null Hypothesis.\n",
      " => Series is Non-Stationary.\n",
      "\n",
      "\n"
     ]
    }
   ],
   "source": [
    "def adfuller_test(series, signif=0.05, name='', verbose=False):\n",
    "    \"\"\"Perform ADFuller to test for Stationarity of given series and print report\"\"\"\n",
    "    r = adfuller(series, autolag='AIC')\n",
    "    output = {'test_statistic':round(r[0], 4), 'pvalue':round(r[1], 4), 'n_lags':round(r[2], 4), 'n_obs':r[3]}\n",
    "    p_value = output['pvalue'] \n",
    "    def adjust(val, length= 6): return str(val).ljust(length)\n",
    "\n",
    "    # Print Summary\n",
    "    print(f'    Augmented Dickey-Fuller Test on \"{name}\"', \"\\n   \", '-'*47)\n",
    "    print(f' Null Hypothesis: Data has unit root. Non-Stationary.')\n",
    "    print(f' Significance Level    = {signif}')\n",
    "    print(f' Test Statistic        = {output[\"test_statistic\"]}')\n",
    "    print(f' No. Lags Chosen       = {output[\"n_lags\"]}')\n",
    "\n",
    "    for key,val in r[4].items():\n",
    "        print(f' Critical value {adjust(key)} = {round(val, 3)}')\n",
    "\n",
    "    if p_value <= signif:\n",
    "        print(f\" => P-Value = {p_value}. Rejecting Null Hypothesis.\")\n",
    "        print(f\" => Series is Stationary.\")\n",
    "    else:\n",
    "        print(f\" => P-Value = {p_value}. Weak evidence to reject the Null Hypothesis.\")\n",
    "        print(f\" => Series is Non-Stationary.\")   \n",
    "        \n",
    "for name, column in df_train.iteritems():\n",
    "    adfuller_test(column, name=column.name)\n",
    "    print('\\n')"
   ]
  },
  {
   "cell_type": "markdown",
   "id": "00ae4212",
   "metadata": {},
   "source": [
    "The ADF test confirms none of the time series is stationary. Let’s difference all of them once and check again."
   ]
  },
  {
   "cell_type": "code",
   "execution_count": 53,
   "id": "c66d7290",
   "metadata": {},
   "outputs": [],
   "source": [
    "df_differenced = df_train.diff().dropna()"
   ]
  },
  {
   "cell_type": "code",
   "execution_count": 54,
   "id": "14324c40",
   "metadata": {
    "scrolled": true
   },
   "outputs": [
    {
     "name": "stdout",
     "output_type": "stream",
     "text": [
      "    Augmented Dickey-Fuller Test on \"ppt (mm)\" \n",
      "    -----------------------------------------------\n",
      " Null Hypothesis: Data has unit root. Non-Stationary.\n",
      " Significance Level    = 0.05\n",
      " Test Statistic        = -9.039\n",
      " No. Lags Chosen       = 11\n",
      " Critical value 1%     = -3.469\n",
      " Critical value 5%     = -2.878\n",
      " Critical value 10%    = -2.576\n",
      " => P-Value = 0.0. Rejecting Null Hypothesis.\n",
      " => Series is Stationary.\n",
      "\n",
      "\n",
      "    Augmented Dickey-Fuller Test on \"tmean (degrees C)\" \n",
      "    -----------------------------------------------\n",
      " Null Hypothesis: Data has unit root. Non-Stationary.\n",
      " Significance Level    = 0.05\n",
      " Test Statistic        = -5.755\n",
      " No. Lags Chosen       = 13\n",
      " Critical value 1%     = -3.469\n",
      " Critical value 5%     = -2.879\n",
      " Critical value 10%    = -2.576\n",
      " => P-Value = 0.0. Rejecting Null Hypothesis.\n",
      " => Series is Stationary.\n",
      "\n",
      "\n",
      "    Augmented Dickey-Fuller Test on \"case_count\" \n",
      "    -----------------------------------------------\n",
      " Null Hypothesis: Data has unit root. Non-Stationary.\n",
      " Significance Level    = 0.05\n",
      " Test Statistic        = -6.7355\n",
      " No. Lags Chosen       = 11\n",
      " Critical value 1%     = -3.469\n",
      " Critical value 5%     = -2.878\n",
      " Critical value 10%    = -2.576\n",
      " => P-Value = 0.0. Rejecting Null Hypothesis.\n",
      " => Series is Stationary.\n",
      "\n",
      "\n"
     ]
    }
   ],
   "source": [
    "for name, column in df_differenced.iteritems():\n",
    "    adfuller_test(column, name=column.name)\n",
    "    print('\\n')"
   ]
  },
  {
   "cell_type": "markdown",
   "id": "e188d548",
   "metadata": {},
   "source": [
    "# 10. How to Select the Order (P) of VAR model"
   ]
  },
  {
   "cell_type": "code",
   "execution_count": 56,
   "id": "c2ad0b84",
   "metadata": {
    "scrolled": false
   },
   "outputs": [
    {
     "name": "stdout",
     "output_type": "stream",
     "text": [
      "Lag Order = 1\n",
      "AIC :  10.75916603260378\n",
      "BIC :  10.968835755926104\n",
      "FPE :  47060.37288293778\n",
      "HQIC:  10.84414778516106 \n",
      "\n",
      "Lag Order = 2\n",
      "AIC :  10.462222567969693\n",
      "BIC :  10.83052425764002\n",
      "FPE :  34973.10451414775\n",
      "HQIC:  10.61151334064683 \n",
      "\n",
      "Lag Order = 3\n",
      "AIC :  10.257209131380359\n",
      "BIC :  10.785342101777632\n",
      "FPE :  28496.640649245935\n",
      "HQIC:  10.471306553019025 \n",
      "\n",
      "Lag Order = 4\n",
      "AIC :  10.229362530783812\n",
      "BIC :  10.918541449122857\n",
      "FPE :  27725.444463761614\n",
      "HQIC:  10.508770403745826 \n",
      "\n",
      "Lag Order = 5\n",
      "AIC :  10.097758098384817\n",
      "BIC :  10.949213258622207\n",
      "FPE :  24322.79995715591\n",
      "HQIC:  10.442986501444347 \n",
      "\n",
      "Lag Order = 6\n",
      "AIC :  10.018261228728514\n",
      "BIC :  11.033238831705738\n",
      "FPE :  22486.476582802068\n",
      "HQIC:  10.429826622058226 \n",
      "\n",
      "Lag Order = 7\n",
      "AIC :  9.61446632771938\n",
      "BIC :  10.794228767715321\n",
      "FPE :  15037.12424199191\n",
      "HQIC:  10.09289166001864 \n",
      "\n",
      "Lag Order = 8\n",
      "AIC :  9.433649564686258\n",
      "BIC :  10.779475722556525\n",
      "FPE :  12573.585043338004\n",
      "HQIC:  9.979464382500563 \n",
      "\n",
      "Lag Order = 9\n",
      "AIC :  9.2062027109019\n",
      "BIC :  10.71938825398829\n",
      "FPE :  10040.482166021851\n",
      "HQIC:  9.819943270183876 \n",
      "\n",
      "Lag Order = 10\n",
      "AIC :  8.975378981307431\n",
      "BIC :  10.657236670306784\n",
      "FPE :  7996.109949519951\n",
      "HQIC:  9.657588361270886 \n",
      "\n",
      "Lag Order = 11\n",
      "AIC :  8.862371227076466\n",
      "BIC :  10.714231230064293\n",
      "FPE :  7169.881492748529\n",
      "HQIC:  9.613599446396139 \n",
      "\n",
      "Lag Order = 12\n",
      "AIC :  8.745970252827982\n",
      "BIC :  10.769180466638696\n",
      "FPE :  6413.05601397566\n",
      "HQIC:  9.566774388238839 \n",
      "\n",
      "Lag Order = 13\n",
      "AIC :  8.755806867025594\n",
      "BIC :  10.95173324619777\n",
      "FPE :  6514.665114897681\n",
      "HQIC:  9.6467511743767 \n",
      "\n",
      "Lag Order = 14\n",
      "AIC :  8.733389586808217\n",
      "BIC :  11.103416480310225\n",
      "FPE :  6415.388974030851\n",
      "HQIC:  9.695045624627447 \n",
      "\n",
      "Lag Order = 15\n",
      "AIC :  8.767842336848679\n",
      "BIC :  11.313372832807126\n",
      "FPE :  6696.253375755829\n",
      "HQIC:  9.800789092475753 \n",
      "\n",
      "Lag Order = 16\n",
      "AIC :  8.863888835481468\n",
      "BIC :  11.586345114142366\n",
      "FPE :  7444.671533624814\n",
      "HQIC:  9.968712853828029 \n",
      "\n",
      "Lag Order = 17\n",
      "AIC :  8.906004998781391\n",
      "BIC :  11.806828693941561\n",
      "FPE :  7855.539316788482\n",
      "HQIC:  10.083300513778095 \n",
      "\n",
      "Lag Order = 18\n",
      "AIC :  8.977273179831858\n",
      "BIC :  12.057925748986136\n",
      "FPE :  8550.634822086497\n",
      "HQIC:  10.227642248623738 \n",
      "\n",
      "Lag Order = 19\n",
      "AIC :  9.075279202489975\n",
      "BIC :  12.337242305948038\n",
      "FPE :  9580.05042493073\n",
      "HQIC:  10.399331842442546 \n",
      "\n",
      "Lag Order = 20\n",
      "AIC :  9.047024480101207\n",
      "BIC :  12.491800369336396\n",
      "FPE :  9483.179812930272\n",
      "HQIC:  10.445378808681099 \n",
      "\n"
     ]
    },
    {
     "name": "stderr",
     "output_type": "stream",
     "text": [
      "C:\\Users\\Maria\\anaconda3\\lib\\site-packages\\statsmodels\\tsa\\base\\tsa_model.py:524: ValueWarning: No frequency information was provided, so inferred frequency MS will be used.\n",
      "  warnings.warn('No frequency information was'\n"
     ]
    }
   ],
   "source": [
    "model = VAR(df_differenced)\n",
    "for i in [1,2,3,4,5,6,7,8,9, 10, 11, 12, 13, 14, 15, 16, 17, 18, 19, 20]:\n",
    "    result = model.fit(i)\n",
    "    print('Lag Order =', i)\n",
    "    print('AIC : ', result.aic)\n",
    "    print('BIC : ', result.bic)\n",
    "    print('FPE : ', result.fpe)\n",
    "    print('HQIC: ', result.hqic, '\\n')"
   ]
  },
  {
   "cell_type": "markdown",
   "id": "7a60cae8",
   "metadata": {},
   "source": [
    "Choose lag 12 because its the lowest before it starts again"
   ]
  },
  {
   "cell_type": "code",
   "execution_count": 57,
   "id": "df913914",
   "metadata": {
    "scrolled": true
   },
   "outputs": [
    {
     "data": {
      "text/html": [
       "<table class=\"simpletable\">\n",
       "<caption>VAR Order Selection (* highlights the minimums)</caption>\n",
       "<tr>\n",
       "   <td></td>      <th>AIC</th>         <th>BIC</th>         <th>FPE</th>        <th>HQIC</th>    \n",
       "</tr>\n",
       "<tr>\n",
       "  <th>0</th>  <td>     11.47</td>  <td>     11.52</td>  <td> 9.546e+04</td>  <td>     11.49</td> \n",
       "</tr>\n",
       "<tr>\n",
       "  <th>1</th>  <td>     10.76</td>  <td>     10.98</td>  <td> 4.699e+04</td>  <td>     10.85</td> \n",
       "</tr>\n",
       "<tr>\n",
       "  <th>2</th>  <td>     10.52</td>  <td>     10.92</td>  <td> 3.708e+04</td>  <td>     10.68</td> \n",
       "</tr>\n",
       "<tr>\n",
       "  <th>3</th>  <td>     10.31</td>  <td>     10.88</td>  <td> 3.017e+04</td>  <td>     10.54</td> \n",
       "</tr>\n",
       "<tr>\n",
       "  <th>4</th>  <td>     10.34</td>  <td>     11.08</td>  <td> 3.103e+04</td>  <td>     10.64</td> \n",
       "</tr>\n",
       "<tr>\n",
       "  <th>5</th>  <td>     10.14</td>  <td>     11.05</td>  <td> 2.550e+04</td>  <td>     10.51</td> \n",
       "</tr>\n",
       "<tr>\n",
       "  <th>6</th>  <td>     10.09</td>  <td>     11.17</td>  <td> 2.423e+04</td>  <td>     10.53</td> \n",
       "</tr>\n",
       "<tr>\n",
       "  <th>7</th>  <td>     9.733</td>  <td>     10.98</td>  <td> 1.695e+04</td>  <td>     10.24</td> \n",
       "</tr>\n",
       "<tr>\n",
       "  <th>8</th>  <td>     9.536</td>  <td>     10.95</td>  <td> 1.394e+04</td>  <td>     10.11</td> \n",
       "</tr>\n",
       "<tr>\n",
       "  <th>9</th>  <td>     9.340</td>  <td>     10.92</td>  <td> 1.150e+04</td>  <td>     9.982</td> \n",
       "</tr>\n",
       "<tr>\n",
       "  <th>10</th> <td>     9.025</td>  <td>     10.78*</td> <td>     8423.</td>  <td>     9.736</td> \n",
       "</tr>\n",
       "<tr>\n",
       "  <th>11</th> <td>     8.927</td>  <td>     10.85</td>  <td>     7673.</td>  <td>     9.707</td> \n",
       "</tr>\n",
       "<tr>\n",
       "  <th>12</th> <td>     8.856</td>  <td>     10.95</td>  <td>     7183.</td>  <td>     9.704*</td>\n",
       "</tr>\n",
       "<tr>\n",
       "  <th>13</th> <td>     8.871</td>  <td>     11.13</td>  <td>     7338.</td>  <td>     9.788</td> \n",
       "</tr>\n",
       "<tr>\n",
       "  <th>14</th> <td>     8.836*</td> <td>     11.26</td>  <td>     7133.*</td> <td>     9.821</td> \n",
       "</tr>\n",
       "<tr>\n",
       "  <th>15</th> <td>     8.856</td>  <td>     11.45</td>  <td>     7339.</td>  <td>     9.910</td> \n",
       "</tr>\n",
       "<tr>\n",
       "  <th>16</th> <td>     8.931</td>  <td>     11.70</td>  <td>     7993.</td>  <td>     10.05</td> \n",
       "</tr>\n",
       "<tr>\n",
       "  <th>17</th> <td>     8.968</td>  <td>     11.90</td>  <td>     8386.</td>  <td>     10.16</td> \n",
       "</tr>\n",
       "<tr>\n",
       "  <th>18</th> <td>     9.016</td>  <td>     12.12</td>  <td>     8914.</td>  <td>     10.28</td> \n",
       "</tr>\n",
       "<tr>\n",
       "  <th>19</th> <td>     9.084</td>  <td>     12.36</td>  <td>     9681.</td>  <td>     10.41</td> \n",
       "</tr>\n",
       "<tr>\n",
       "  <th>20</th> <td>     9.047</td>  <td>     12.49</td>  <td>     9483.</td>  <td>     10.45</td> \n",
       "</tr>\n",
       "</table>"
      ],
      "text/plain": [
       "<class 'statsmodels.iolib.table.SimpleTable'>"
      ]
     },
     "execution_count": 57,
     "metadata": {},
     "output_type": "execute_result"
    }
   ],
   "source": [
    "# Another way to find lag number\n",
    "x = model.select_order(maxlags=20)\n",
    "x.summary()"
   ]
  },
  {
   "cell_type": "markdown",
   "id": "eda35ee9",
   "metadata": {},
   "source": [
    "This recomend lag 14..."
   ]
  },
  {
   "cell_type": "markdown",
   "id": "bb6735d6",
   "metadata": {},
   "source": [
    "# 11. Train the VAR Model of Selected Order(p)"
   ]
  },
  {
   "cell_type": "code",
   "execution_count": 58,
   "id": "1fa42621",
   "metadata": {
    "scrolled": true
   },
   "outputs": [
    {
     "data": {
      "text/plain": [
       "  Summary of Regression Results   \n",
       "==================================\n",
       "Model:                         VAR\n",
       "Method:                        OLS\n",
       "Date:           Sun, 23, Jan, 2022\n",
       "Time:                     12:24:19\n",
       "--------------------------------------------------------------------\n",
       "No. of Equations:         3.00000    BIC:                    11.1034\n",
       "Nobs:                     171.000    HQIC:                   9.69505\n",
       "Log likelihood:          -1345.62    FPE:                    6415.39\n",
       "AIC:                      8.73339    Det(Omega_mle):         3273.18\n",
       "--------------------------------------------------------------------\n",
       "Results for equation ppt (mm)\n",
       "========================================================================================\n",
       "                           coefficient       std. error           t-stat            prob\n",
       "----------------------------------------------------------------------------------------\n",
       "const                        -0.033426         0.130975           -0.255           0.799\n",
       "L1.ppt (mm)                  -0.833515         0.086477           -9.639           0.000\n",
       "L1.tmean (degrees C)         -0.047835         0.113884           -0.420           0.674\n",
       "L1.case_count                 0.000589         0.005876            0.100           0.920\n",
       "L2.ppt (mm)                  -0.705802         0.108993           -6.476           0.000\n",
       "L2.tmean (degrees C)          0.151139         0.134572            1.123           0.261\n",
       "L2.case_count                -0.001415         0.006097           -0.232           0.816\n",
       "L3.ppt (mm)                  -0.551457         0.120097           -4.592           0.000\n",
       "L3.tmean (degrees C)          0.104329         0.156774            0.665           0.506\n",
       "L3.case_count                -0.002346         0.006203           -0.378           0.705\n",
       "L4.ppt (mm)                  -0.534542         0.129831           -4.117           0.000\n",
       "L4.tmean (degrees C)          0.030843         0.174340            0.177           0.860\n",
       "L4.case_count                -0.015179         0.006354           -2.389           0.017\n",
       "L5.ppt (mm)                  -0.475467         0.140372           -3.387           0.001\n",
       "L5.tmean (degrees C)          0.056577         0.173452            0.326           0.744\n",
       "L5.case_count                -0.007881         0.006554           -1.202           0.229\n",
       "L6.ppt (mm)                  -0.457480         0.145667           -3.141           0.002\n",
       "L6.tmean (degrees C)          0.102760         0.176842            0.581           0.561\n",
       "L6.case_count                -0.003530         0.006601           -0.535           0.593\n",
       "L7.ppt (mm)                  -0.351770         0.147732           -2.381           0.017\n",
       "L7.tmean (degrees C)          0.138990         0.173749            0.800           0.424\n",
       "L7.case_count                -0.011836         0.006766           -1.749           0.080\n",
       "L8.ppt (mm)                  -0.309481         0.146826           -2.108           0.035\n",
       "L8.tmean (degrees C)          0.136577         0.179799            0.760           0.447\n",
       "L8.case_count                -0.017934         0.006625           -2.707           0.007\n",
       "L9.ppt (mm)                  -0.262415         0.143479           -1.829           0.067\n",
       "L9.tmean (degrees C)          0.141208         0.179715            0.786           0.432\n",
       "L9.case_count                -0.014661         0.006534           -2.244           0.025\n",
       "L10.ppt (mm)                 -0.124672         0.137721           -0.905           0.365\n",
       "L10.tmean (degrees C)         0.006582         0.175940            0.037           0.970\n",
       "L10.case_count               -0.010550         0.006593           -1.600           0.110\n",
       "L11.ppt (mm)                 -0.108049         0.128631           -0.840           0.401\n",
       "L11.tmean (degrees C)         0.209575         0.175479            1.194           0.232\n",
       "L11.case_count               -0.012980         0.006391           -2.031           0.042\n",
       "L12.ppt (mm)                 -0.342838         0.118716           -2.888           0.004\n",
       "L12.tmean (degrees C)         0.043893         0.160442            0.274           0.784\n",
       "L12.case_count               -0.011753         0.006098           -1.927           0.054\n",
       "L13.ppt (mm)                 -0.240840         0.105085           -2.292           0.022\n",
       "L13.tmean (degrees C)        -0.076583         0.139012           -0.551           0.582\n",
       "L13.case_count               -0.015852         0.005923           -2.676           0.007\n",
       "L14.ppt (mm)                 -0.175746         0.082395           -2.133           0.033\n",
       "L14.tmean (degrees C)        -0.205895         0.113121           -1.820           0.069\n",
       "L14.case_count               -0.015924         0.005738           -2.775           0.006\n",
       "========================================================================================\n",
       "\n",
       "Results for equation tmean (degrees C)\n",
       "========================================================================================\n",
       "                           coefficient       std. error           t-stat            prob\n",
       "----------------------------------------------------------------------------------------\n",
       "const                         0.043532         0.103739            0.420           0.675\n",
       "L1.ppt (mm)                   0.022074         0.068494            0.322           0.747\n",
       "L1.tmean (degrees C)         -0.675295         0.090202           -7.486           0.000\n",
       "L1.case_count                -0.001552         0.004654           -0.333           0.739\n",
       "L2.ppt (mm)                  -0.058054         0.086328           -0.672           0.501\n",
       "L2.tmean (degrees C)         -0.730564         0.106588           -6.854           0.000\n",
       "L2.case_count                 0.003783         0.004829            0.783           0.433\n",
       "L3.ppt (mm)                  -0.158430         0.095123           -1.666           0.096\n",
       "L3.tmean (degrees C)         -0.777824         0.124173           -6.264           0.000\n",
       "L3.case_count                 0.000273         0.004913            0.056           0.956\n",
       "L4.ppt (mm)                  -0.196068         0.102833           -1.907           0.057\n",
       "L4.tmean (degrees C)         -0.640330         0.138086           -4.637           0.000\n",
       "L4.case_count                 0.007598         0.005033            1.510           0.131\n",
       "L5.ppt (mm)                  -0.188691         0.111182           -1.697           0.090\n",
       "L5.tmean (degrees C)         -0.802038         0.137383           -5.838           0.000\n",
       "L5.case_count                 0.010661         0.005191            2.054           0.040\n",
       "L6.ppt (mm)                  -0.108022         0.115375           -0.936           0.349\n",
       "L6.tmean (degrees C)         -0.623197         0.140068           -4.449           0.000\n",
       "L6.case_count                 0.009614         0.005229            1.839           0.066\n",
       "L7.ppt (mm)                  -0.092607         0.117011           -0.791           0.429\n",
       "L7.tmean (degrees C)         -0.810061         0.137618           -5.886           0.000\n",
       "L7.case_count                 0.008548         0.005359            1.595           0.111\n",
       "L8.ppt (mm)                  -0.145259         0.116293           -1.249           0.212\n",
       "L8.tmean (degrees C)         -0.723785         0.142410           -5.082           0.000\n",
       "L8.case_count                 0.006257         0.005247            1.192           0.233\n",
       "L9.ppt (mm)                  -0.153680         0.113642           -1.352           0.176\n",
       "L9.tmean (degrees C)         -0.778570         0.142344           -5.470           0.000\n",
       "L9.case_count                 0.009983         0.005175            1.929           0.054\n",
       "L10.ppt (mm)                 -0.138911         0.109082           -1.273           0.203\n",
       "L10.tmean (degrees C)        -0.691830         0.139353           -4.965           0.000\n",
       "L10.case_count                0.009275         0.005222            1.776           0.076\n",
       "L11.ppt (mm)                 -0.137468         0.101882           -1.349           0.177\n",
       "L11.tmean (degrees C)        -0.372468         0.138989           -2.680           0.007\n",
       "L11.case_count                0.008007         0.005062            1.582           0.114\n",
       "L12.ppt (mm)                 -0.043970         0.094029           -0.468           0.640\n",
       "L12.tmean (degrees C)        -0.147049         0.127078           -1.157           0.247\n",
       "L12.case_count                0.007927         0.004830            1.641           0.101\n",
       "L13.ppt (mm)                  0.006155         0.083232            0.074           0.941\n",
       "L13.tmean (degrees C)         0.028774         0.110104            0.261           0.794\n",
       "L13.case_count                0.010966         0.004691            2.338           0.019\n",
       "L14.ppt (mm)                  0.013647         0.065261            0.209           0.834\n",
       "L14.tmean (degrees C)         0.140955         0.089597            1.573           0.116\n",
       "L14.case_count                0.008263         0.004545            1.818           0.069\n",
       "========================================================================================\n",
       "\n",
       "Results for equation case_count\n",
       "========================================================================================\n",
       "                           coefficient       std. error           t-stat            prob\n",
       "----------------------------------------------------------------------------------------\n",
       "const                        -0.239262         1.980324           -0.121           0.904\n",
       "L1.ppt (mm)                   0.284364         1.307527            0.217           0.828\n",
       "L1.tmean (degrees C)          1.316543         1.721911            0.765           0.445\n",
       "L1.case_count                -0.304921         0.088851           -3.432           0.001\n",
       "L2.ppt (mm)                   0.516391         1.647964            0.313           0.754\n",
       "L2.tmean (degrees C)          2.246074         2.034717            1.104           0.270\n",
       "L2.case_count                -0.302280         0.092179           -3.279           0.001\n",
       "L3.ppt (mm)                   0.124485         1.815858            0.069           0.945\n",
       "L3.tmean (degrees C)          2.040448         2.370411            0.861           0.389\n",
       "L3.case_count                -0.373967         0.093794           -3.987           0.000\n",
       "L4.ppt (mm)                   0.348021         1.963032            0.177           0.859\n",
       "L4.tmean (degrees C)          2.427965         2.635998            0.921           0.357\n",
       "L4.case_count                -0.415285         0.096079           -4.322           0.000\n",
       "L5.ppt (mm)                  -0.142471         2.122405           -0.067           0.946\n",
       "L5.tmean (degrees C)          2.583047         2.622571            0.985           0.325\n",
       "L5.case_count                -0.335533         0.099103           -3.386           0.001\n",
       "L6.ppt (mm)                   1.802084         2.202463            0.818           0.413\n",
       "L6.tmean (degrees C)          1.515329         2.673836            0.567           0.571\n",
       "L6.case_count                -0.342326         0.099812           -3.430           0.001\n",
       "L7.ppt (mm)                  -0.117787         2.233687           -0.053           0.958\n",
       "L7.tmean (degrees C)          4.366756         2.627065            1.662           0.096\n",
       "L7.case_count                -0.377548         0.102300           -3.691           0.000\n",
       "L8.ppt (mm)                   1.897181         2.219987            0.855           0.393\n",
       "L8.tmean (degrees C)          3.752883         2.718545            1.380           0.167\n",
       "L8.case_count                -0.221632         0.100167           -2.213           0.027\n",
       "L9.ppt (mm)                  -1.905235         2.169382           -0.878           0.380\n",
       "L9.tmean (degrees C)          0.410119         2.717273            0.151           0.880\n",
       "L9.case_count                -0.346027         0.098786           -3.503           0.000\n",
       "L10.ppt (mm)                  0.100789         2.082326            0.048           0.961\n",
       "L10.tmean (degrees C)         0.640841         2.660189            0.241           0.810\n",
       "L10.case_count               -0.369106         0.099687           -3.703           0.000\n",
       "L11.ppt (mm)                 -1.148494         1.944882           -0.591           0.555\n",
       "L11.tmean (degrees C)         2.467243         2.653228            0.930           0.352\n",
       "L11.case_count               -0.247942         0.096629           -2.566           0.010\n",
       "L12.ppt (mm)                 -0.410038         1.794977           -0.228           0.819\n",
       "L12.tmean (degrees C)         2.332654         2.425862            0.962           0.336\n",
       "L12.case_count                0.231968         0.092203            2.516           0.012\n",
       "L13.ppt (mm)                 -0.128505         1.588867           -0.081           0.936\n",
       "L13.tmean (degrees C)         1.386736         2.101840            0.660           0.509\n",
       "L13.case_count               -0.111514         0.089552           -1.245           0.213\n",
       "L14.ppt (mm)                 -0.204581         1.245800           -0.164           0.870\n",
       "L14.tmean (degrees C)         2.264382         1.710373            1.324           0.186\n",
       "L14.case_count               -0.005625         0.086756           -0.065           0.948\n",
       "========================================================================================\n",
       "\n",
       "Correlation matrix of residuals\n",
       "                     ppt (mm)  tmean (degrees C)  case_count\n",
       "ppt (mm)             1.000000          -0.212676   -0.018231\n",
       "tmean (degrees C)   -0.212676           1.000000    0.149512\n",
       "case_count          -0.018231           0.149512    1.000000\n",
       "\n"
      ]
     },
     "execution_count": 58,
     "metadata": {},
     "output_type": "execute_result"
    }
   ],
   "source": [
    "model_fitted = model.fit(14)\n",
    "model_fitted.summary()"
   ]
  },
  {
   "cell_type": "markdown",
   "id": "48119794",
   "metadata": {},
   "source": [
    "# 12. Check for Serial Correlation of Residuals (Errors) using Durbin Watson Statistic"
   ]
  },
  {
   "cell_type": "code",
   "execution_count": 60,
   "id": "98114a84",
   "metadata": {
    "scrolled": true
   },
   "outputs": [
    {
     "name": "stdout",
     "output_type": "stream",
     "text": [
      "ppt (mm) : 2.03\n",
      "tmean (degrees C) : 1.99\n",
      "case_count : 2.03\n"
     ]
    }
   ],
   "source": [
    "from statsmodels.stats.stattools import durbin_watson\n",
    "out = durbin_watson(model_fitted.resid)\n",
    "\n",
    "for col, val in zip(df.columns, out):\n",
    "    print((col), ':', round(val, 2))"
   ]
  },
  {
   "cell_type": "markdown",
   "id": "b79a01c4",
   "metadata": {},
   "source": [
    "The value of this statistic can vary between 0 and 4. The closer it is to the value 2, then there is no significant serial correlation. The closer to 0, there is a positive serial correlation, and the closer it is to 4 implies negative serial correlation"
   ]
  },
  {
   "cell_type": "markdown",
   "id": "c721d054",
   "metadata": {},
   "source": [
    "looks pretty good."
   ]
  },
  {
   "cell_type": "markdown",
   "id": "a841e6cf",
   "metadata": {},
   "source": [
    "# 13. How to Forecast VAR model using statsmodels"
   ]
  },
  {
   "cell_type": "code",
   "execution_count": 62,
   "id": "ca359057",
   "metadata": {
    "scrolled": true
   },
   "outputs": [
    {
     "name": "stdout",
     "output_type": "stream",
     "text": [
      "14\n"
     ]
    },
    {
     "data": {
      "text/plain": [
       "array([[-1.21816256e+00,  5.79726601e+00,  0.00000000e+00],\n",
       "       [-8.81080049e-01,  2.68567734e+00,  1.00000000e+00],\n",
       "       [-2.35899015e-01,  2.42266010e+00,  2.00000000e+00],\n",
       "       [ 2.79150246e-02,  2.38624384e+00,  2.70000000e+01],\n",
       "       [-1.31403941e-03, -2.14344828e+00,  2.60000000e+01],\n",
       "       [ 7.65394089e-03, -2.88408867e+00,  8.00000000e+00],\n",
       "       [ 1.39871305e+00, -9.20137931e+00, -4.40000000e+01],\n",
       "       [ 3.35960591e-01, -2.17019704e+00,  2.00000000e+00],\n",
       "       [ 2.01673522e+00, -9.83596059e-01,  1.70000000e+01],\n",
       "       [-2.01156281e+00,  1.07990148e+00, -3.90000000e+01],\n",
       "       [ 2.89396552e-01, -7.24568966e-01,  0.00000000e+00],\n",
       "       [-2.03802340e+00,  5.91483990e+00,  0.00000000e+00],\n",
       "       [ 2.00293103e-01,  2.27514778e+00,  0.00000000e+00],\n",
       "       [-1.22214286e-01,  5.32676108e+00,  0.00000000e+00]])"
      ]
     },
     "execution_count": 62,
     "metadata": {},
     "output_type": "execute_result"
    }
   ],
   "source": [
    "# Get the lag order\n",
    "lag_order = model_fitted.k_ar\n",
    "print(lag_order)  #> 14\n",
    "\n",
    "# Input data for forecasting\n",
    "forecast_input = df_differenced.values[-lag_order:]\n",
    "forecast_input"
   ]
  },
  {
   "cell_type": "code",
   "execution_count": 70,
   "id": "96d834c6",
   "metadata": {
    "scrolled": true
   },
   "outputs": [
    {
     "data": {
      "text/html": [
       "<div>\n",
       "<style scoped>\n",
       "    .dataframe tbody tr th:only-of-type {\n",
       "        vertical-align: middle;\n",
       "    }\n",
       "\n",
       "    .dataframe tbody tr th {\n",
       "        vertical-align: top;\n",
       "    }\n",
       "\n",
       "    .dataframe thead th {\n",
       "        text-align: right;\n",
       "    }\n",
       "</style>\n",
       "<table border=\"1\" class=\"dataframe\">\n",
       "  <thead>\n",
       "    <tr style=\"text-align: right;\">\n",
       "      <th></th>\n",
       "      <th>ppt (mm)_1d</th>\n",
       "      <th>tmean (degrees C)_1d</th>\n",
       "      <th>case_count_1d</th>\n",
       "    </tr>\n",
       "    <tr>\n",
       "      <th>month_date</th>\n",
       "      <th></th>\n",
       "      <th></th>\n",
       "      <th></th>\n",
       "    </tr>\n",
       "  </thead>\n",
       "  <tbody>\n",
       "    <tr>\n",
       "      <th>2021-07-01</th>\n",
       "      <td>-1.016027</td>\n",
       "      <td>2.406121</td>\n",
       "      <td>9.736843</td>\n",
       "    </tr>\n",
       "    <tr>\n",
       "      <th>2021-08-01</th>\n",
       "      <td>-0.207926</td>\n",
       "      <td>1.204897</td>\n",
       "      <td>33.932535</td>\n",
       "    </tr>\n",
       "    <tr>\n",
       "      <th>2021-09-01</th>\n",
       "      <td>0.698527</td>\n",
       "      <td>-2.745387</td>\n",
       "      <td>46.365246</td>\n",
       "    </tr>\n",
       "    <tr>\n",
       "      <th>2021-10-01</th>\n",
       "      <td>-0.217559</td>\n",
       "      <td>-3.243547</td>\n",
       "      <td>-25.721104</td>\n",
       "    </tr>\n",
       "  </tbody>\n",
       "</table>\n",
       "</div>"
      ],
      "text/plain": [
       "            ppt (mm)_1d  tmean (degrees C)_1d  case_count_1d\n",
       "month_date                                                  \n",
       "2021-07-01    -1.016027              2.406121       9.736843\n",
       "2021-08-01    -0.207926              1.204897      33.932535\n",
       "2021-09-01     0.698527             -2.745387      46.365246\n",
       "2021-10-01    -0.217559             -3.243547     -25.721104"
      ]
     },
     "execution_count": 70,
     "metadata": {},
     "output_type": "execute_result"
    }
   ],
   "source": [
    "# Forecast\n",
    "fc = model_fitted.forecast(y=forecast_input, steps=nobs)\n",
    "df_forecast = pd.DataFrame(fc, index=df.index[-nobs:], columns=df.columns + '_1d')\n",
    "df_forecast"
   ]
  },
  {
   "cell_type": "markdown",
   "id": "8c6cbc16",
   "metadata": {},
   "source": [
    "negative case count doest make sense.. must be due to invertion"
   ]
  },
  {
   "cell_type": "markdown",
   "id": "6efc21de",
   "metadata": {},
   "source": [
    "# 14. Invert the transformation to get the real forecast"
   ]
  },
  {
   "cell_type": "code",
   "execution_count": 89,
   "id": "3c810cfa",
   "metadata": {},
   "outputs": [],
   "source": [
    "def invert_transformation(df_train, df_forecast):\n",
    "    \"\"\"Revert back the differencing to get the forecast to original scale.\"\"\"\n",
    "    df_fc = df_forecast.copy()\n",
    "    columns = df_train.columns\n",
    "    for col in columns:        \n",
    "        # Roll back 2nd Diff\n",
    "        #if first_diff:\n",
    "         #   df_fc[str(col)+'_1d'] = (df_train[col].iloc[-1]-df_train[col].iloc[-2]) + df_fc[str(col)+'_2d'].cumsum()\n",
    "        # Roll back 1st Diff\n",
    "        df_fc[str(col)+'_forecast'] = df_train[col].iloc[-1] + df_fc[str(col)+'_1d'].cumsum()\n",
    "    return df_fc"
   ]
  },
  {
   "cell_type": "code",
   "execution_count": 90,
   "id": "dc46dd02",
   "metadata": {},
   "outputs": [
    {
     "data": {
      "text/html": [
       "<div>\n",
       "<style scoped>\n",
       "    .dataframe tbody tr th:only-of-type {\n",
       "        vertical-align: middle;\n",
       "    }\n",
       "\n",
       "    .dataframe tbody tr th {\n",
       "        vertical-align: top;\n",
       "    }\n",
       "\n",
       "    .dataframe thead th {\n",
       "        text-align: right;\n",
       "    }\n",
       "</style>\n",
       "<table border=\"1\" class=\"dataframe\">\n",
       "  <thead>\n",
       "    <tr style=\"text-align: right;\">\n",
       "      <th></th>\n",
       "      <th>ppt (mm)_forecast</th>\n",
       "      <th>tmean (degrees C)_forecast</th>\n",
       "      <th>case_count_forecast</th>\n",
       "    </tr>\n",
       "    <tr>\n",
       "      <th>month_date</th>\n",
       "      <th></th>\n",
       "      <th></th>\n",
       "      <th></th>\n",
       "    </tr>\n",
       "  </thead>\n",
       "  <tbody>\n",
       "    <tr>\n",
       "      <th>2021-07-01</th>\n",
       "      <td>-0.889684</td>\n",
       "      <td>23.899040</td>\n",
       "      <td>9.736843</td>\n",
       "    </tr>\n",
       "    <tr>\n",
       "      <th>2021-08-01</th>\n",
       "      <td>-1.097610</td>\n",
       "      <td>25.103937</td>\n",
       "      <td>43.669378</td>\n",
       "    </tr>\n",
       "    <tr>\n",
       "      <th>2021-09-01</th>\n",
       "      <td>-0.399083</td>\n",
       "      <td>22.358550</td>\n",
       "      <td>90.034625</td>\n",
       "    </tr>\n",
       "    <tr>\n",
       "      <th>2021-10-01</th>\n",
       "      <td>-0.616642</td>\n",
       "      <td>19.115003</td>\n",
       "      <td>64.313521</td>\n",
       "    </tr>\n",
       "  </tbody>\n",
       "</table>\n",
       "</div>"
      ],
      "text/plain": [
       "            ppt (mm)_forecast  tmean (degrees C)_forecast  case_count_forecast\n",
       "month_date                                                                    \n",
       "2021-07-01          -0.889684                   23.899040             9.736843\n",
       "2021-08-01          -1.097610                   25.103937            43.669378\n",
       "2021-09-01          -0.399083                   22.358550            90.034625\n",
       "2021-10-01          -0.616642                   19.115003            64.313521"
      ]
     },
     "execution_count": 90,
     "metadata": {},
     "output_type": "execute_result"
    }
   ],
   "source": [
    "df_results = invert_transformation(df_train, df_forecast) #changed to first diff        \n",
    "df_results.loc[:, ['ppt (mm)_forecast', 'tmean (degrees C)_forecast', 'case_count_forecast']]"
   ]
  },
  {
   "cell_type": "code",
   "execution_count": 66,
   "id": "1a2bc01b",
   "metadata": {
    "scrolled": true
   },
   "outputs": [
    {
     "data": {
      "text/plain": [
       "Index(['ppt (mm)', 'tmean (degrees C)', 'case_count'], dtype='object')"
      ]
     },
     "execution_count": 66,
     "metadata": {},
     "output_type": "execute_result"
    }
   ],
   "source": [
    "df.columns"
   ]
  },
  {
   "cell_type": "markdown",
   "id": "f30a9565",
   "metadata": {},
   "source": [
    "# 15. Plot of Forecast vs Actuals"
   ]
  },
  {
   "cell_type": "code",
   "execution_count": 91,
   "id": "d23ce78b",
   "metadata": {
    "scrolled": true
   },
   "outputs": [
    {
     "data": {
      "image/png": "[encoded data removed]",
      "text/plain": [
       "<Figure size 1500x1500 with 4 Axes>"
      ]
     },
     "metadata": {
      "needs_background": "light"
     },
     "output_type": "display_data"
    }
   ],
   "source": [
    "fig, axes = plt.subplots(nrows=2, ncols=2, dpi=150, figsize=(10,10))\n",
    "for i, (col,ax) in enumerate(zip(df.columns, axes.flatten())):\n",
    "    df_results[col+'_forecast'].plot(legend=True, ax=ax).autoscale(axis='x',tight=True)\n",
    "    df_test[col][-nobs:].plot(legend=True, ax=ax);\n",
    "    ax.set_title(col + \": Forecast vs Actuals\")\n",
    "    ax.xaxis.set_ticks_position('none')\n",
    "    ax.yaxis.set_ticks_position('none')\n",
    "    ax.spines[\"top\"].set_alpha(0)\n",
    "    ax.tick_params(labelsize=6)\n",
    "\n",
    "plt.tight_layout();"
   ]
  },
  {
   "cell_type": "markdown",
   "id": "72e056fa",
   "metadata": {},
   "source": [
    "# 16. Evaluate the Forecasts"
   ]
  },
  {
   "cell_type": "code",
   "execution_count": 77,
   "id": "7892b3b8",
   "metadata": {},
   "outputs": [],
   "source": [
    "from statsmodels.tsa.stattools import acf\n",
    "def forecast_accuracy(forecast, actual):\n",
    "    mape = np.mean(np.abs(forecast - actual)/np.abs(actual))  # MAPE\n",
    "    me = np.mean(forecast - actual)             # ME\n",
    "    mae = np.mean(np.abs(forecast - actual))    # MAE\n",
    "    mpe = np.mean((forecast - actual)/actual)   # MPE\n",
    "    rmse = np.mean((forecast - actual)**2)**.5  # RMSE\n",
    "    corr = np.corrcoef(forecast, actual)[0,1]   # corr\n",
    "    mins = np.amin(np.hstack([forecast[:,None], \n",
    "                              actual[:,None]]), axis=1)\n",
    "    maxs = np.amax(np.hstack([forecast[:,None], \n",
    "                              actual[:,None]]), axis=1)\n",
    "    minmax = 1 - np.mean(mins/maxs)             # minmax\n",
    "    return({'mape':mape, 'me':me, 'mae': mae, \n",
    "            'mpe': mpe, 'rmse':rmse, 'corr':corr, 'minmax':minmax})"
   ]
  },
  {
   "cell_type": "code",
   "execution_count": null,
   "id": "0027359a",
   "metadata": {},
   "outputs": [],
   "source": [
    "'ppt (mm)_forecast', 'tmean (degrees C)_forecast', 'case_count_forecast'"
   ]
  },
  {
   "cell_type": "code",
   "execution_count": 79,
   "id": "bd0da335",
   "metadata": {},
   "outputs": [
    {
     "name": "stdout",
     "output_type": "stream",
     "text": [
      "Forecast Accuracy of: ppt (mm)\n",
      "mape :  27.9636\n",
      "me :  -0.9735\n",
      "mae :  0.9735\n",
      "mpe :  -27.9636\n",
      "rmse :  0.9928\n",
      "corr :  0.6858\n",
      "minmax :  27.9636\n"
     ]
    },
    {
     "name": "stderr",
     "output_type": "stream",
     "text": [
      "C:\\Users\\Maria\\AppData\\Local\\Temp/ipykernel_16264/3132832150.py:10: FutureWarning: Support for multi-dimensional indexing (e.g. `obj[:, None]`) is deprecated and will be removed in a future version.  Convert to a numpy array before indexing instead.\n",
      "  actual[:,None]]), axis=1)\n",
      "C:\\Users\\Maria\\AppData\\Local\\Temp/ipykernel_16264/3132832150.py:12: FutureWarning: Support for multi-dimensional indexing (e.g. `obj[:, None]`) is deprecated and will be removed in a future version.  Convert to a numpy array before indexing instead.\n",
      "  actual[:,None]]), axis=1)\n"
     ]
    }
   ],
   "source": [
    "print('Forecast Accuracy of: ppt (mm)')\n",
    "accuracy_prod = forecast_accuracy(df_results['ppt (mm)_forecast'].values, df_test['ppt (mm)'])\n",
    "for k, v in accuracy_prod.items():\n",
    "    print((k), ': ', round(v,4))"
   ]
  },
  {
   "cell_type": "code",
   "execution_count": 80,
   "id": "41b880bd",
   "metadata": {
    "scrolled": true
   },
   "outputs": [
    {
     "name": "stdout",
     "output_type": "stream",
     "text": [
      "Forecast Accuracy of: tmean (degrees C)\n",
      "mape :  0.0513\n",
      "me :  0.1813\n",
      "mae :  1.126\n",
      "mpe :  0.0128\n",
      "rmse :  1.1758\n",
      "corr :  0.9164\n",
      "minmax :  0.0493\n"
     ]
    },
    {
     "name": "stderr",
     "output_type": "stream",
     "text": [
      "C:\\Users\\Maria\\AppData\\Local\\Temp/ipykernel_16264/3132832150.py:10: FutureWarning: Support for multi-dimensional indexing (e.g. `obj[:, None]`) is deprecated and will be removed in a future version.  Convert to a numpy array before indexing instead.\n",
      "  actual[:,None]]), axis=1)\n",
      "C:\\Users\\Maria\\AppData\\Local\\Temp/ipykernel_16264/3132832150.py:12: FutureWarning: Support for multi-dimensional indexing (e.g. `obj[:, None]`) is deprecated and will be removed in a future version.  Convert to a numpy array before indexing instead.\n",
      "  actual[:,None]]), axis=1)\n"
     ]
    }
   ],
   "source": [
    "print('Forecast Accuracy of: tmean (degrees C)')\n",
    "accuracy_prod = forecast_accuracy(df_results['tmean (degrees C)_forecast'].values, df_test['tmean (degrees C)'])\n",
    "for k, v in accuracy_prod.items():\n",
    "    print((k), ': ', round(v,4))"
   ]
  },
  {
   "cell_type": "code",
   "execution_count": 81,
   "id": "fe1bace7",
   "metadata": {
    "scrolled": true
   },
   "outputs": [
    {
     "name": "stdout",
     "output_type": "stream",
     "text": [
      "Forecast Accuracy of: case_count\n",
      "mape :  inf\n",
      "me :  37.6886\n",
      "mae :  37.6886\n",
      "mpe :  inf\n",
      "rmse :  45.066\n",
      "corr :  0.5547\n",
      "minmax :  0.6853\n"
     ]
    },
    {
     "name": "stderr",
     "output_type": "stream",
     "text": [
      "C:\\Users\\Maria\\AppData\\Local\\Temp/ipykernel_16264/3132832150.py:10: FutureWarning: Support for multi-dimensional indexing (e.g. `obj[:, None]`) is deprecated and will be removed in a future version.  Convert to a numpy array before indexing instead.\n",
      "  actual[:,None]]), axis=1)\n",
      "C:\\Users\\Maria\\AppData\\Local\\Temp/ipykernel_16264/3132832150.py:12: FutureWarning: Support for multi-dimensional indexing (e.g. `obj[:, None]`) is deprecated and will be removed in a future version.  Convert to a numpy array before indexing instead.\n",
      "  actual[:,None]]), axis=1)\n"
     ]
    }
   ],
   "source": [
    "print('Forecast Accuracy of: case_count')\n",
    "accuracy_prod = forecast_accuracy(df_results['case_count_forecast'].values, df_test['case_count'])\n",
    "for k, v in accuracy_prod.items():\n",
    "    print((k), ': ', round(v,4))"
   ]
  },
  {
   "cell_type": "markdown",
   "id": "54212b2c",
   "metadata": {},
   "source": [
    "# Try with Lag 12."
   ]
  },
  {
   "cell_type": "code",
   "execution_count": 83,
   "id": "249becec",
   "metadata": {
    "scrolled": false
   },
   "outputs": [
    {
     "data": {
      "text/plain": [
       "  Summary of Regression Results   \n",
       "==================================\n",
       "Model:                         VAR\n",
       "Method:                        OLS\n",
       "Date:           Sun, 23, Jan, 2022\n",
       "Time:                     13:17:52\n",
       "--------------------------------------------------------------------\n",
       "No. of Equations:         3.00000    BIC:                    10.7692\n",
       "Nobs:                     173.000    HQIC:                   9.56677\n",
       "Log likelihood:          -1381.96    FPE:                    6413.06\n",
       "AIC:                      8.74597    Det(Omega_mle):         3585.46\n",
       "--------------------------------------------------------------------\n",
       "Results for equation ppt (mm)\n",
       "========================================================================================\n",
       "                           coefficient       std. error           t-stat            prob\n",
       "----------------------------------------------------------------------------------------\n",
       "const                        -0.023821         0.136303           -0.175           0.861\n",
       "L1.ppt (mm)                  -0.753048         0.085455           -8.812           0.000\n",
       "L1.tmean (degrees C)         -0.072492         0.111857           -0.648           0.517\n",
       "L1.case_count                -0.000050         0.005808           -0.009           0.993\n",
       "L2.ppt (mm)                  -0.625831         0.107590           -5.817           0.000\n",
       "L2.tmean (degrees C)          0.123680         0.129966            0.952           0.341\n",
       "L2.case_count                -0.002887         0.006015           -0.480           0.631\n",
       "L3.ppt (mm)                  -0.529020         0.121915           -4.339           0.000\n",
       "L3.tmean (degrees C)          0.064828         0.134334            0.483           0.629\n",
       "L3.case_count                 0.005967         0.005949            1.003           0.316\n",
       "L4.ppt (mm)                  -0.479350         0.131387           -3.648           0.000\n",
       "L4.tmean (degrees C)          0.031883         0.131052            0.243           0.808\n",
       "L4.case_count                -0.005468         0.005988           -0.913           0.361\n",
       "L5.ppt (mm)                  -0.388269         0.139098           -2.791           0.005\n",
       "L5.tmean (degrees C)          0.132603         0.126648            1.047           0.295\n",
       "L5.case_count                 0.001174         0.006245            0.188           0.851\n",
       "L6.ppt (mm)                  -0.341836         0.142935           -2.392           0.017\n",
       "L6.tmean (degrees C)          0.177718         0.127752            1.391           0.164\n",
       "L6.case_count                 0.004129         0.006155            0.671           0.502\n",
       "L7.ppt (mm)                  -0.235350         0.141537           -1.663           0.096\n",
       "L7.tmean (degrees C)          0.185789         0.125264            1.483           0.138\n",
       "L7.case_count                -0.004541         0.006265           -0.725           0.469\n",
       "L8.ppt (mm)                  -0.186274         0.135624           -1.373           0.170\n",
       "L8.tmean (degrees C)          0.163830         0.126736            1.293           0.196\n",
       "L8.case_count                -0.008762         0.006311           -1.388           0.165\n",
       "L9.ppt (mm)                  -0.144189         0.129034           -1.117           0.264\n",
       "L9.tmean (degrees C)          0.222695         0.130938            1.701           0.089\n",
       "L9.case_count                -0.003659         0.005957           -0.614           0.539\n",
       "L10.ppt (mm)                  0.014828         0.121583            0.122           0.903\n",
       "L10.tmean (degrees C)         0.081649         0.134503            0.607           0.544\n",
       "L10.case_count               -0.000546         0.005795           -0.094           0.925\n",
       "L11.ppt (mm)                  0.009585         0.106757            0.090           0.928\n",
       "L11.tmean (degrees C)         0.299923         0.133009            2.255           0.024\n",
       "L11.case_count               -0.005159         0.005806           -0.889           0.374\n",
       "L12.ppt (mm)                 -0.161507         0.084185           -1.918           0.055\n",
       "L12.tmean (degrees C)         0.100133         0.115010            0.871           0.384\n",
       "L12.case_count               -0.003234         0.005559           -0.582           0.561\n",
       "========================================================================================\n",
       "\n",
       "Results for equation tmean (degrees C)\n",
       "========================================================================================\n",
       "                           coefficient       std. error           t-stat            prob\n",
       "----------------------------------------------------------------------------------------\n",
       "const                         0.066851         0.105920            0.631           0.528\n",
       "L1.ppt (mm)                  -0.022066         0.066406           -0.332           0.740\n",
       "L1.tmean (degrees C)         -0.670442         0.086923           -7.713           0.000\n",
       "L1.case_count                 0.000289         0.004513            0.064           0.949\n",
       "L2.ppt (mm)                  -0.109289         0.083606           -1.307           0.191\n",
       "L2.tmean (degrees C)         -0.735523         0.100995           -7.283           0.000\n",
       "L2.case_count                 0.004863         0.004674            1.040           0.298\n",
       "L3.ppt (mm)                  -0.182732         0.094738           -1.929           0.054\n",
       "L3.tmean (degrees C)         -0.768987         0.104389           -7.367           0.000\n",
       "L3.case_count                -0.004346         0.004623           -0.940           0.347\n",
       "L4.ppt (mm)                  -0.246080         0.102099           -2.410           0.016\n",
       "L4.tmean (degrees C)         -0.672199         0.101839           -6.601           0.000\n",
       "L4.case_count                 0.001245         0.004653            0.267           0.789\n",
       "L5.ppt (mm)                  -0.246224         0.108091           -2.278           0.023\n",
       "L5.tmean (degrees C)         -0.884327         0.098416           -8.986           0.000\n",
       "L5.case_count                 0.005211         0.004853            1.074           0.283\n",
       "L6.ppt (mm)                  -0.174706         0.111073           -1.573           0.116\n",
       "L6.tmean (degrees C)         -0.717441         0.099275           -7.227           0.000\n",
       "L6.case_count                 0.005999         0.004783            1.254           0.210\n",
       "L7.ppt (mm)                  -0.142424         0.109986           -1.295           0.195\n",
       "L7.tmean (degrees C)         -0.874896         0.097341           -8.988           0.000\n",
       "L7.case_count                 0.005032         0.004868            1.034           0.301\n",
       "L8.ppt (mm)                  -0.186383         0.105391           -1.768           0.077\n",
       "L8.tmean (degrees C)         -0.759312         0.098485           -7.710           0.000\n",
       "L8.case_count                -0.000012         0.004904           -0.003           0.998\n",
       "L9.ppt (mm)                  -0.196278         0.100270           -1.957           0.050\n",
       "L9.tmean (degrees C)         -0.844035         0.101751           -8.295           0.000\n",
       "L9.case_count                 0.003481         0.004629            0.752           0.452\n",
       "L10.ppt (mm)                 -0.158131         0.094481           -1.674           0.094\n",
       "L10.tmean (degrees C)        -0.735514         0.104521           -7.037           0.000\n",
       "L10.case_count                0.003560         0.004503            0.791           0.429\n",
       "L11.ppt (mm)                 -0.106962         0.082960           -1.289           0.197\n",
       "L11.tmean (degrees C)        -0.437452         0.103360           -4.232           0.000\n",
       "L11.case_count                0.003560         0.004512            0.789           0.430\n",
       "L12.ppt (mm)                 -0.026491         0.065419           -0.405           0.686\n",
       "L12.tmean (degrees C)        -0.186314         0.089373           -2.085           0.037\n",
       "L12.case_count                0.003438         0.004320            0.796           0.426\n",
       "========================================================================================\n",
       "\n",
       "Results for equation case_count\n",
       "========================================================================================\n",
       "                           coefficient       std. error           t-stat            prob\n",
       "----------------------------------------------------------------------------------------\n",
       "const                        -0.034681         1.932186           -0.018           0.986\n",
       "L1.ppt (mm)                   0.523072         1.211374            0.432           0.666\n",
       "L1.tmean (degrees C)          1.317910         1.585647            0.831           0.406\n",
       "L1.case_count                -0.334785         0.082335           -4.066           0.000\n",
       "L2.ppt (mm)                   0.829811         1.525149            0.544           0.586\n",
       "L2.tmean (degrees C)          1.805080         1.842346            0.980           0.327\n",
       "L2.case_count                -0.270573         0.085260           -3.173           0.002\n",
       "L3.ppt (mm)                   0.409480         1.728216            0.237           0.813\n",
       "L3.tmean (degrees C)          1.104198         1.904272            0.580           0.562\n",
       "L3.case_count                -0.331920         0.084335           -3.936           0.000\n",
       "L4.ppt (mm)                   0.207447         1.862489            0.111           0.911\n",
       "L4.tmean (degrees C)          0.923765         1.857745            0.497           0.619\n",
       "L4.case_count                -0.378184         0.084886           -4.455           0.000\n",
       "L5.ppt (mm)                  -0.125698         1.971800           -0.064           0.949\n",
       "L5.tmean (degrees C)          1.024506         1.795309            0.571           0.568\n",
       "L5.case_count                -0.316959         0.088522           -3.581           0.000\n",
       "L6.ppt (mm)                   1.622410         2.026196            0.801           0.423\n",
       "L6.tmean (degrees C)          0.073996         1.810970            0.041           0.967\n",
       "L6.case_count                -0.290782         0.087248           -3.333           0.001\n",
       "L7.ppt (mm)                  -0.345035         2.006371           -0.172           0.863\n",
       "L7.tmean (degrees C)          2.340088         1.775688            1.318           0.188\n",
       "L7.case_count                -0.312592         0.088807           -3.520           0.000\n",
       "L8.ppt (mm)                   1.402075         1.922548            0.729           0.466\n",
       "L8.tmean (degrees C)          2.179459         1.796564            1.213           0.225\n",
       "L8.case_count                -0.196594         0.089457           -2.198           0.028\n",
       "L9.ppt (mm)                  -2.216030         1.829131           -1.212           0.226\n",
       "L9.tmean (degrees C)         -1.449800         1.856134           -0.781           0.435\n",
       "L9.case_count                -0.293866         0.084449           -3.480           0.001\n",
       "L10.ppt (mm)                 -0.458261         1.723520           -0.266           0.790\n",
       "L10.tmean (degrees C)        -0.782867         1.906663           -0.411           0.681\n",
       "L10.case_count               -0.316225         0.082151           -3.849           0.000\n",
       "L11.ppt (mm)                 -1.227016         1.513352           -0.811           0.417\n",
       "L11.tmean (degrees C)         0.812097         1.885485            0.431           0.667\n",
       "L11.case_count               -0.196976         0.082302           -2.393           0.017\n",
       "L12.ppt (mm)                 -0.418646         1.193374           -0.351           0.726\n",
       "L12.tmean (degrees C)         0.900937         1.630341            0.553           0.581\n",
       "L12.case_count                0.289498         0.078806            3.674           0.000\n",
       "========================================================================================\n",
       "\n",
       "Correlation matrix of residuals\n",
       "                     ppt (mm)  tmean (degrees C)  case_count\n",
       "ppt (mm)             1.000000          -0.270340   -0.009358\n",
       "tmean (degrees C)   -0.270340           1.000000    0.142772\n",
       "case_count          -0.009358           0.142772    1.000000\n",
       "\n"
      ]
     },
     "execution_count": 83,
     "metadata": {},
     "output_type": "execute_result"
    }
   ],
   "source": [
    "#Step 11\n",
    "model_fitted = model.fit(12)\n",
    "model_fitted.summary()"
   ]
  },
  {
   "cell_type": "code",
   "execution_count": 84,
   "id": "4faf397d",
   "metadata": {},
   "outputs": [
    {
     "name": "stdout",
     "output_type": "stream",
     "text": [
      "ppt (mm) : 2.08\n",
      "tmean (degrees C) : 1.97\n",
      "case_count : 1.94\n"
     ]
    }
   ],
   "source": [
    "#Step 12\n",
    "from statsmodels.stats.stattools import durbin_watson\n",
    "out = durbin_watson(model_fitted.resid)\n",
    "\n",
    "for col, val in zip(df.columns, out):\n",
    "    print((col), ':', round(val, 2))"
   ]
  },
  {
   "cell_type": "code",
   "execution_count": 85,
   "id": "cce3f7cb",
   "metadata": {
    "scrolled": true
   },
   "outputs": [
    {
     "name": "stdout",
     "output_type": "stream",
     "text": [
      "12\n"
     ]
    },
    {
     "data": {
      "text/plain": [
       "array([[-2.35899015e-01,  2.42266010e+00,  2.00000000e+00],\n",
       "       [ 2.79150246e-02,  2.38624384e+00,  2.70000000e+01],\n",
       "       [-1.31403941e-03, -2.14344828e+00,  2.60000000e+01],\n",
       "       [ 7.65394089e-03, -2.88408867e+00,  8.00000000e+00],\n",
       "       [ 1.39871305e+00, -9.20137931e+00, -4.40000000e+01],\n",
       "       [ 3.35960591e-01, -2.17019704e+00,  2.00000000e+00],\n",
       "       [ 2.01673522e+00, -9.83596059e-01,  1.70000000e+01],\n",
       "       [-2.01156281e+00,  1.07990148e+00, -3.90000000e+01],\n",
       "       [ 2.89396552e-01, -7.24568966e-01,  0.00000000e+00],\n",
       "       [-2.03802340e+00,  5.91483990e+00,  0.00000000e+00],\n",
       "       [ 2.00293103e-01,  2.27514778e+00,  0.00000000e+00],\n",
       "       [-1.22214286e-01,  5.32676108e+00,  0.00000000e+00]])"
      ]
     },
     "execution_count": 85,
     "metadata": {},
     "output_type": "execute_result"
    }
   ],
   "source": [
    "#Step 13\n",
    "lag_order = model_fitted.k_ar\n",
    "print(lag_order)  #> 14\n",
    "\n",
    "# Input data for forecasting\n",
    "forecast_input = df_differenced.values[-lag_order:]\n",
    "forecast_input"
   ]
  },
  {
   "cell_type": "code",
   "execution_count": 92,
   "id": "610f3d3f",
   "metadata": {
    "scrolled": true
   },
   "outputs": [
    {
     "data": {
      "text/html": [
       "<div>\n",
       "<style scoped>\n",
       "    .dataframe tbody tr th:only-of-type {\n",
       "        vertical-align: middle;\n",
       "    }\n",
       "\n",
       "    .dataframe tbody tr th {\n",
       "        vertical-align: top;\n",
       "    }\n",
       "\n",
       "    .dataframe thead th {\n",
       "        text-align: right;\n",
       "    }\n",
       "</style>\n",
       "<table border=\"1\" class=\"dataframe\">\n",
       "  <thead>\n",
       "    <tr style=\"text-align: right;\">\n",
       "      <th></th>\n",
       "      <th>ppt (mm)_forecast</th>\n",
       "      <th>tmean (degrees C)_forecast</th>\n",
       "      <th>case_count_forecast</th>\n",
       "    </tr>\n",
       "    <tr>\n",
       "      <th>month_date</th>\n",
       "      <th></th>\n",
       "      <th></th>\n",
       "      <th></th>\n",
       "    </tr>\n",
       "  </thead>\n",
       "  <tbody>\n",
       "    <tr>\n",
       "      <th>2021-07-01</th>\n",
       "      <td>-0.889684</td>\n",
       "      <td>23.899040</td>\n",
       "      <td>9.736843</td>\n",
       "    </tr>\n",
       "    <tr>\n",
       "      <th>2021-08-01</th>\n",
       "      <td>-1.097610</td>\n",
       "      <td>25.103937</td>\n",
       "      <td>43.669378</td>\n",
       "    </tr>\n",
       "    <tr>\n",
       "      <th>2021-09-01</th>\n",
       "      <td>-0.399083</td>\n",
       "      <td>22.358550</td>\n",
       "      <td>90.034625</td>\n",
       "    </tr>\n",
       "    <tr>\n",
       "      <th>2021-10-01</th>\n",
       "      <td>-0.616642</td>\n",
       "      <td>19.115003</td>\n",
       "      <td>64.313521</td>\n",
       "    </tr>\n",
       "  </tbody>\n",
       "</table>\n",
       "</div>"
      ],
      "text/plain": [
       "            ppt (mm)_forecast  tmean (degrees C)_forecast  case_count_forecast\n",
       "month_date                                                                    \n",
       "2021-07-01          -0.889684                   23.899040             9.736843\n",
       "2021-08-01          -1.097610                   25.103937            43.669378\n",
       "2021-09-01          -0.399083                   22.358550            90.034625\n",
       "2021-10-01          -0.616642                   19.115003            64.313521"
      ]
     },
     "execution_count": 92,
     "metadata": {},
     "output_type": "execute_result"
    }
   ],
   "source": [
    "#Step 14\n",
    "def invert_transformation(df_train, df_forecast):\n",
    "    \"\"\"Revert back the differencing to get the forecast to original scale.\"\"\"\n",
    "    df_fc = df_forecast.copy()\n",
    "    columns = df_train.columns\n",
    "    for col in columns:        \n",
    "        # Roll back 2nd Diff\n",
    "        #if first_diff:\n",
    "         #   df_fc[str(col)+'_1d'] = (df_train[col].iloc[-1]-df_train[col].iloc[-2]) + df_fc[str(col)+'_2d'].cumsum()\n",
    "        # Roll back 1st Diff\n",
    "        df_fc[str(col)+'_forecast'] = df_train[col].iloc[-1] + df_fc[str(col)+'_1d'].cumsum()\n",
    "    return df_fc\n",
    "\n",
    "df_results = invert_transformation(df_train, df_forecast) #changed to first diff        \n",
    "df_results.loc[:, ['ppt (mm)_forecast', 'tmean (degrees C)_forecast', 'case_count_forecast']]"
   ]
  },
  {
   "cell_type": "code",
   "execution_count": 93,
   "id": "72424647",
   "metadata": {},
   "outputs": [
    {
     "data": {
      "image/png": "[encoded data removed]",
      "text/plain": [
       "<Figure size 1500x1500 with 4 Axes>"
      ]
     },
     "metadata": {
      "needs_background": "light"
     },
     "output_type": "display_data"
    }
   ],
   "source": [
    "#Step 15\n",
    "fig, axes = plt.subplots(nrows=2, ncols=2, dpi=150, figsize=(10,10))\n",
    "for i, (col,ax) in enumerate(zip(df.columns, axes.flatten())):\n",
    "    df_results[col+'_forecast'].plot(legend=True, ax=ax).autoscale(axis='x',tight=True)\n",
    "    df_test[col][-nobs:].plot(legend=True, ax=ax);\n",
    "    ax.set_title(col + \": Forecast vs Actuals\")\n",
    "    ax.xaxis.set_ticks_position('none')\n",
    "    ax.yaxis.set_ticks_position('none')\n",
    "    ax.spines[\"top\"].set_alpha(0)\n",
    "    ax.tick_params(labelsize=6)\n",
    "\n",
    "plt.tight_layout();"
   ]
  },
  {
   "cell_type": "markdown",
   "id": "3f93fc60",
   "metadata": {},
   "source": [
    "The case count forecast is much high than expected. This could be because of the pandemic where social distancing guidelines reduced the number of cases spread/reported. "
   ]
  },
  {
   "cell_type": "markdown",
   "id": "3d21f090",
   "metadata": {},
   "source": [
    "After conducting more indepth research on the model, it was decided that VAR is not the best model for our seasonal dataset. Instead, we will look into ARIMA, Linear Regression, then Power Law."
   ]
  }
 ],
 "metadata": {
  "kernelspec": {
   "display_name": "Python 3 (ipykernel)",
   "language": "python",
   "name": "python3"
  },
  "language_info": {
   "codemirror_mode": {
    "name": "ipython",
    "version": 3
   },
   "file_extension": ".py",
   "mimetype": "text/x-python",
   "name": "python",
   "nbconvert_exporter": "python",
   "pygments_lexer": "ipython3",
   "version": "3.9.7"
  }
 },
 "nbformat": 4,
 "nbformat_minor": 5
}
